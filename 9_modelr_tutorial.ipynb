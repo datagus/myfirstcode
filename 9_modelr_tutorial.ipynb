{
 "cells": [
  {
   "cell_type": "markdown",
   "id": "fb5ad391-6e8f-4b73-b289-55e3dd681d9f",
   "metadata": {},
   "source": [
    "# Model reduction_tutorial_week_9"
   ]
  },
  {
   "cell_type": "code",
   "execution_count": 42,
   "id": "65c91685-ad02-4ec6-9866-37aa7728a1e5",
   "metadata": {},
   "outputs": [],
   "source": [
    "import pandas as pd\n",
    "import numpy as np\n",
    "import seaborn as sns\n",
    "import matplotlib.pyplot as plt\n",
    "from matplotlib import pyplot as plt\n",
    "import scipy.stats as stats\n",
    "import statsmodels.api as sm\n",
    "import statsmodels.formula.api as smf\n",
    "from sklearn.model_selection import train_test_split\n",
    "from sklearn import metrics"
   ]
  },
  {
   "cell_type": "code",
   "execution_count": 8,
   "id": "406e4b5c-9704-4ff8-a338-8cc3bd673473",
   "metadata": {},
   "outputs": [
    {
     "data": {
      "text/html": [
       "<div>\n",
       "<style scoped>\n",
       "    .dataframe tbody tr th:only-of-type {\n",
       "        vertical-align: middle;\n",
       "    }\n",
       "\n",
       "    .dataframe tbody tr th {\n",
       "        vertical-align: top;\n",
       "    }\n",
       "\n",
       "    .dataframe thead th {\n",
       "        text-align: right;\n",
       "    }\n",
       "</style>\n",
       "<table border=\"1\" class=\"dataframe\">\n",
       "  <thead>\n",
       "    <tr style=\"text-align: right;\">\n",
       "      <th></th>\n",
       "      <th>yield</th>\n",
       "      <th>block</th>\n",
       "      <th>irrigation</th>\n",
       "      <th>density</th>\n",
       "      <th>fertilizer</th>\n",
       "    </tr>\n",
       "  </thead>\n",
       "  <tbody>\n",
       "    <tr>\n",
       "      <th>0</th>\n",
       "      <td>90</td>\n",
       "      <td>A</td>\n",
       "      <td>control</td>\n",
       "      <td>low</td>\n",
       "      <td>N</td>\n",
       "    </tr>\n",
       "    <tr>\n",
       "      <th>1</th>\n",
       "      <td>95</td>\n",
       "      <td>A</td>\n",
       "      <td>control</td>\n",
       "      <td>low</td>\n",
       "      <td>P</td>\n",
       "    </tr>\n",
       "    <tr>\n",
       "      <th>2</th>\n",
       "      <td>107</td>\n",
       "      <td>A</td>\n",
       "      <td>control</td>\n",
       "      <td>low</td>\n",
       "      <td>NP</td>\n",
       "    </tr>\n",
       "    <tr>\n",
       "      <th>3</th>\n",
       "      <td>92</td>\n",
       "      <td>A</td>\n",
       "      <td>control</td>\n",
       "      <td>medium</td>\n",
       "      <td>N</td>\n",
       "    </tr>\n",
       "    <tr>\n",
       "      <th>4</th>\n",
       "      <td>89</td>\n",
       "      <td>A</td>\n",
       "      <td>control</td>\n",
       "      <td>medium</td>\n",
       "      <td>P</td>\n",
       "    </tr>\n",
       "    <tr>\n",
       "      <th>...</th>\n",
       "      <td>...</td>\n",
       "      <td>...</td>\n",
       "      <td>...</td>\n",
       "      <td>...</td>\n",
       "      <td>...</td>\n",
       "    </tr>\n",
       "    <tr>\n",
       "      <th>67</th>\n",
       "      <td>131</td>\n",
       "      <td>D</td>\n",
       "      <td>irrigated</td>\n",
       "      <td>medium</td>\n",
       "      <td>P</td>\n",
       "    </tr>\n",
       "    <tr>\n",
       "      <th>68</th>\n",
       "      <td>126</td>\n",
       "      <td>D</td>\n",
       "      <td>irrigated</td>\n",
       "      <td>medium</td>\n",
       "      <td>NP</td>\n",
       "    </tr>\n",
       "    <tr>\n",
       "      <th>69</th>\n",
       "      <td>116</td>\n",
       "      <td>D</td>\n",
       "      <td>irrigated</td>\n",
       "      <td>high</td>\n",
       "      <td>N</td>\n",
       "    </tr>\n",
       "    <tr>\n",
       "      <th>70</th>\n",
       "      <td>136</td>\n",
       "      <td>D</td>\n",
       "      <td>irrigated</td>\n",
       "      <td>high</td>\n",
       "      <td>P</td>\n",
       "    </tr>\n",
       "    <tr>\n",
       "      <th>71</th>\n",
       "      <td>133</td>\n",
       "      <td>D</td>\n",
       "      <td>irrigated</td>\n",
       "      <td>high</td>\n",
       "      <td>NP</td>\n",
       "    </tr>\n",
       "  </tbody>\n",
       "</table>\n",
       "<p>72 rows × 5 columns</p>\n",
       "</div>"
      ],
      "text/plain": [
       "    yield block irrigation density fertilizer\n",
       "0      90     A    control     low          N\n",
       "1      95     A    control     low          P\n",
       "2     107     A    control     low         NP\n",
       "3      92     A    control  medium          N\n",
       "4      89     A    control  medium          P\n",
       "..    ...   ...        ...     ...        ...\n",
       "67    131     D  irrigated  medium          P\n",
       "68    126     D  irrigated  medium         NP\n",
       "69    116     D  irrigated    high          N\n",
       "70    136     D  irrigated    high          P\n",
       "71    133     D  irrigated    high         NP\n",
       "\n",
       "[72 rows x 5 columns]"
      ]
     },
     "execution_count": 8,
     "metadata": {},
     "output_type": "execute_result"
    }
   ],
   "source": [
    "df = pd.read_csv('data/splityield.txt', sep=\"\\\\t\", engine=\"python\")\n",
    "\n",
    "# Display the first few rows\n",
    "df"
   ]
  },
  {
   "cell_type": "code",
   "execution_count": 10,
   "id": "f1a4526c-d1c0-4b7b-a692-e78c6d392b17",
   "metadata": {},
   "outputs": [
    {
     "data": {
      "text/html": [
       "<div>\n",
       "<style scoped>\n",
       "    .dataframe tbody tr th:only-of-type {\n",
       "        vertical-align: middle;\n",
       "    }\n",
       "\n",
       "    .dataframe tbody tr th {\n",
       "        vertical-align: top;\n",
       "    }\n",
       "\n",
       "    .dataframe thead th {\n",
       "        text-align: right;\n",
       "    }\n",
       "</style>\n",
       "<table border=\"1\" class=\"dataframe\">\n",
       "  <thead>\n",
       "    <tr style=\"text-align: right;\">\n",
       "      <th></th>\n",
       "      <th>yield_output</th>\n",
       "      <th>block</th>\n",
       "      <th>irrigation</th>\n",
       "      <th>density</th>\n",
       "      <th>fertilizer</th>\n",
       "    </tr>\n",
       "  </thead>\n",
       "  <tbody>\n",
       "    <tr>\n",
       "      <th>0</th>\n",
       "      <td>90</td>\n",
       "      <td>A</td>\n",
       "      <td>control</td>\n",
       "      <td>low</td>\n",
       "      <td>N</td>\n",
       "    </tr>\n",
       "    <tr>\n",
       "      <th>1</th>\n",
       "      <td>95</td>\n",
       "      <td>A</td>\n",
       "      <td>control</td>\n",
       "      <td>low</td>\n",
       "      <td>P</td>\n",
       "    </tr>\n",
       "    <tr>\n",
       "      <th>2</th>\n",
       "      <td>107</td>\n",
       "      <td>A</td>\n",
       "      <td>control</td>\n",
       "      <td>low</td>\n",
       "      <td>NP</td>\n",
       "    </tr>\n",
       "    <tr>\n",
       "      <th>3</th>\n",
       "      <td>92</td>\n",
       "      <td>A</td>\n",
       "      <td>control</td>\n",
       "      <td>medium</td>\n",
       "      <td>N</td>\n",
       "    </tr>\n",
       "    <tr>\n",
       "      <th>4</th>\n",
       "      <td>89</td>\n",
       "      <td>A</td>\n",
       "      <td>control</td>\n",
       "      <td>medium</td>\n",
       "      <td>P</td>\n",
       "    </tr>\n",
       "    <tr>\n",
       "      <th>...</th>\n",
       "      <td>...</td>\n",
       "      <td>...</td>\n",
       "      <td>...</td>\n",
       "      <td>...</td>\n",
       "      <td>...</td>\n",
       "    </tr>\n",
       "    <tr>\n",
       "      <th>67</th>\n",
       "      <td>131</td>\n",
       "      <td>D</td>\n",
       "      <td>irrigated</td>\n",
       "      <td>medium</td>\n",
       "      <td>P</td>\n",
       "    </tr>\n",
       "    <tr>\n",
       "      <th>68</th>\n",
       "      <td>126</td>\n",
       "      <td>D</td>\n",
       "      <td>irrigated</td>\n",
       "      <td>medium</td>\n",
       "      <td>NP</td>\n",
       "    </tr>\n",
       "    <tr>\n",
       "      <th>69</th>\n",
       "      <td>116</td>\n",
       "      <td>D</td>\n",
       "      <td>irrigated</td>\n",
       "      <td>high</td>\n",
       "      <td>N</td>\n",
       "    </tr>\n",
       "    <tr>\n",
       "      <th>70</th>\n",
       "      <td>136</td>\n",
       "      <td>D</td>\n",
       "      <td>irrigated</td>\n",
       "      <td>high</td>\n",
       "      <td>P</td>\n",
       "    </tr>\n",
       "    <tr>\n",
       "      <th>71</th>\n",
       "      <td>133</td>\n",
       "      <td>D</td>\n",
       "      <td>irrigated</td>\n",
       "      <td>high</td>\n",
       "      <td>NP</td>\n",
       "    </tr>\n",
       "  </tbody>\n",
       "</table>\n",
       "<p>72 rows × 5 columns</p>\n",
       "</div>"
      ],
      "text/plain": [
       "    yield_output block irrigation density fertilizer\n",
       "0             90     A    control     low          N\n",
       "1             95     A    control     low          P\n",
       "2            107     A    control     low         NP\n",
       "3             92     A    control  medium          N\n",
       "4             89     A    control  medium          P\n",
       "..           ...   ...        ...     ...        ...\n",
       "67           131     D  irrigated  medium          P\n",
       "68           126     D  irrigated  medium         NP\n",
       "69           116     D  irrigated    high          N\n",
       "70           136     D  irrigated    high          P\n",
       "71           133     D  irrigated    high         NP\n",
       "\n",
       "[72 rows x 5 columns]"
      ]
     },
     "execution_count": 10,
     "metadata": {},
     "output_type": "execute_result"
    }
   ],
   "source": [
    "df = df.rename(columns={\"yield\":\"yield_output\"})\n",
    "df"
   ]
  },
  {
   "cell_type": "code",
   "execution_count": 33,
   "id": "7debe947-16e4-443f-8a51-26dcc3883870",
   "metadata": {},
   "outputs": [
    {
     "name": "stdout",
     "output_type": "stream",
     "text": [
      "<class 'pandas.core.frame.DataFrame'>\n",
      "RangeIndex: 72 entries, 0 to 71\n",
      "Data columns (total 7 columns):\n",
      " #   Column                    Non-Null Count  Dtype \n",
      "---  ------                    --------------  ----- \n",
      " 0   yield_output              72 non-null     int64 \n",
      " 1   block                     72 non-null     object\n",
      " 2   irrigation                72 non-null     object\n",
      " 3   density                   72 non-null     object\n",
      " 4   fertilizer                72 non-null     object\n",
      " 5   block_irrigation          72 non-null     object\n",
      " 6   block_irrigation_density  72 non-null     object\n",
      "dtypes: int64(1), object(6)\n",
      "memory usage: 4.1+ KB\n"
     ]
    }
   ],
   "source": [
    "df.info()"
   ]
  },
  {
   "cell_type": "code",
   "execution_count": 12,
   "id": "497beacb-15e3-444f-b968-a2d175a73328",
   "metadata": {},
   "outputs": [],
   "source": [
    "df['block_irrigation'] = df['block'].astype(str) + \"_\" + df['irrigation'].astype(str)\n",
    "df['block_irrigation_density'] = df['block_irrigation'].astype(str) + \"_\" + df['density'].astype(str)"
   ]
  },
  {
   "cell_type": "code",
   "execution_count": 38,
   "id": "7ec965db-6d0f-4717-a055-271b6654f011",
   "metadata": {},
   "outputs": [
    {
     "name": "stdout",
     "output_type": "stream",
     "text": [
      "                                 Mixed Linear Model Regression Results\n",
      "========================================================================================================\n",
      "Model:                            MixedLM                Dependent Variable:                yield_output\n",
      "No. Observations:                 72                     Method:                            REML        \n",
      "No. Groups:                       24                     Scale:                             86.3554     \n",
      "Min. group size:                  3                      Log-Likelihood:                    -218.8310   \n",
      "Max. group size:                  3                      Converged:                         Yes         \n",
      "Mean group size:                  3.0                                                                   \n",
      "--------------------------------------------------------------------------------------------------------\n",
      "                                                            Coef.  Std.Err.   z    P>|z|  [0.025  0.975]\n",
      "--------------------------------------------------------------------------------------------------------\n",
      "Intercept                                                   80.500    5.894 13.659 0.000  68.948  92.052\n",
      "irrigation[T.irrigated]                                     31.750    8.335  3.809 0.000  15.414  48.086\n",
      "density[T.low]                                               5.500    8.335  0.660 0.509 -10.836  21.836\n",
      "density[T.medium]                                           14.750    8.335  1.770 0.077  -1.586  31.086\n",
      "fertilizer[T.NP]                                             5.500    6.571  0.837 0.403  -7.379  18.379\n",
      "fertilizer[T.P]                                              4.500    6.571  0.685 0.493  -8.379  17.379\n",
      "irrigation[T.irrigated]:density[T.low]                     -39.000   11.788 -3.309 0.001 -62.103 -15.897\n",
      "irrigation[T.irrigated]:density[T.medium]                  -22.250   11.788 -1.888 0.059 -45.353   0.853\n",
      "irrigation[T.irrigated]:fertilizer[T.NP]                    13.000    9.293  1.399 0.162  -5.213  31.213\n",
      "irrigation[T.irrigated]:fertilizer[T.P]                      5.500    9.293  0.592 0.554 -12.713  23.713\n",
      "density[T.low]:fertilizer[T.NP]                              3.250    9.293  0.350 0.727 -14.963  21.463\n",
      "density[T.medium]:fertilizer[T.NP]                          -6.750    9.293 -0.726 0.468 -24.963  11.463\n",
      "density[T.low]:fertilizer[T.P]                              -5.250    9.293 -0.565 0.572 -23.463  12.963\n",
      "density[T.medium]:fertilizer[T.P]                           -5.500    9.293 -0.592 0.554 -23.713  12.713\n",
      "irrigation[T.irrigated]:density[T.low]:fertilizer[T.NP]      7.750   13.142  0.590 0.555 -18.008  33.508\n",
      "irrigation[T.irrigated]:density[T.medium]:fertilizer[T.NP]   3.750   13.142  0.285 0.775 -22.008  29.508\n",
      "irrigation[T.irrigated]:density[T.low]:fertilizer[T.P]      20.000   13.142  1.522 0.128  -5.758  45.758\n",
      "irrigation[T.irrigated]:density[T.medium]:fertilizer[T.P]    4.000   13.142  0.304 0.761 -21.758  29.758\n",
      "block_irrigation_density Var                                52.590    3.575                             \n",
      "========================================================================================================\n",
      "\n"
     ]
    }
   ],
   "source": [
    "model = mixedlm(\"yield_output ~ irrigation * density * fertilizer\", df, groups=\"block_irrigation_density\")\n",
    "result = model.fit()\n",
    "\n",
    "# Summary of results\n",
    "print(result.summary())"
   ]
  },
  {
   "cell_type": "code",
   "execution_count": 41,
   "id": "ab507086-db09-4003-a587-acc4d55f76b6",
   "metadata": {},
   "outputs": [
    {
     "data": {
      "text/plain": [
       "nan"
      ]
     },
     "execution_count": 41,
     "metadata": {},
     "output_type": "execute_result"
    }
   ],
   "source": [
    "result.aic"
   ]
  },
  {
   "cell_type": "code",
   "execution_count": 24,
   "id": "19f4e8e8-9767-4b80-ab7b-98aa2fb05f92",
   "metadata": {},
   "outputs": [
    {
     "name": "stdout",
     "output_type": "stream",
     "text": [
      "               Mixed Linear Model Regression Results\n",
      "====================================================================\n",
      "Model:                MixedLM    Dependent Variable:    yield_output\n",
      "No. Observations:     72         Method:                REML        \n",
      "No. Groups:           4          Scale:                 177.9255    \n",
      "Min. group size:      18         Log-Likelihood:        -273.4760   \n",
      "Max. group size:      18         Converged:             Yes         \n",
      "Mean group size:      18.0                                          \n",
      "--------------------------------------------------------------------\n",
      "                         Coef.  Std.Err.   z    P>|z|  [0.025 0.975]\n",
      "--------------------------------------------------------------------\n",
      "Intercept                85.264    3.851 22.143 0.000  77.717 92.811\n",
      "irrigation[T.irrigated]  21.444    3.144  6.821 0.000  15.282 27.607\n",
      "density[T.low]          -10.042    3.851 -2.608 0.009 -17.589 -2.495\n",
      "density[T.medium]         0.833    3.851  0.216 0.829  -6.714  8.380\n",
      "fertilizer[T.NP]         12.750    3.851  3.311 0.001   5.203 20.297\n",
      "fertilizer[T.P]           7.667    3.851  1.991 0.046   0.120 15.214\n",
      "block Var                 0.000                                     \n",
      "====================================================================\n",
      "\n"
     ]
    },
    {
     "name": "stderr",
     "output_type": "stream",
     "text": [
      "/Users/jorgegustavorodriguezaboytes/myfirstcode/env/lib/python3.11/site-packages/statsmodels/regression/mixed_linear_model.py:1634: UserWarning: Random effects covariance is singular\n",
      "  warnings.warn(msg)\n",
      "/Users/jorgegustavorodriguezaboytes/myfirstcode/env/lib/python3.11/site-packages/statsmodels/regression/mixed_linear_model.py:2237: ConvergenceWarning: The MLE may be on the boundary of the parameter space.\n",
      "  warnings.warn(msg, ConvergenceWarning)\n",
      "/Users/jorgegustavorodriguezaboytes/myfirstcode/env/lib/python3.11/site-packages/statsmodels/regression/mixed_linear_model.py:2261: ConvergenceWarning: The Hessian matrix at the estimated parameter values is not positive definite.\n",
      "  warnings.warn(msg, ConvergenceWarning)\n"
     ]
    }
   ],
   "source": [
    "from statsmodels.formula.api import mixedlm\n",
    "model = mixedlm(\"yield_output ~ (irrigation + density + fertilizer)\", df, groups=\"block\", re_formula=\"~1\")\n",
    "result = model.fit()\n",
    "\n",
    "# Summary of results\n",
    "print(result.summary())"
   ]
  },
  {
   "cell_type": "code",
   "execution_count": 26,
   "id": "5f69e86a-c74d-419a-a189-45be7ae558c0",
   "metadata": {},
   "outputs": [
    {
     "data": {
      "text/plain": [
       "nan"
      ]
     },
     "execution_count": 26,
     "metadata": {},
     "output_type": "execute_result"
    }
   ],
   "source": [
    "result.aic"
   ]
  },
  {
   "cell_type": "code",
   "execution_count": 15,
   "id": "d04e3ca1-4dc9-4098-8dcd-36e9481796b0",
   "metadata": {
    "scrolled": true
   },
   "outputs": [
    {
     "name": "stdout",
     "output_type": "stream",
     "text": [
      "                           Mixed Linear Model Regression Results\n",
      "============================================================================================\n",
      "Model:                        MixedLM            Dependent Variable:            yield_output\n",
      "No. Observations:             72                 Method:                        REML        \n",
      "No. Groups:                   4                  Scale:                         164.7363    \n",
      "Min. group size:              18                 Log-Likelihood:                -278.4666   \n",
      "Max. group size:              18                 Converged:                     No          \n",
      "Mean group size:              18.0                                                          \n",
      "--------------------------------------------------------------------------------------------\n",
      "                                                 Coef.  Std.Err.   z    P>|z|  [0.025 0.975]\n",
      "--------------------------------------------------------------------------------------------\n",
      "Intercept                                        85.264    6.305 13.524 0.000  72.907 97.621\n",
      "irrigation[T.irrigated]                          21.444    3.513  6.104 0.000  14.559 28.330\n",
      "density[T.low]                                  -10.042    5.392 -1.862 0.063 -20.609  0.526\n",
      "density[T.medium]                                 0.833    6.332  0.132 0.895 -11.578 13.244\n",
      "fertilizer[T.NP]                                 12.750    3.705  3.441 0.001   5.488 20.012\n",
      "fertilizer[T.P]                                   7.667    3.705  2.069 0.039   0.405 14.929\n",
      "block Var                                       104.085                                     \n",
      "block x irrigation[T.irrigated] Cov              24.967    2.803                            \n",
      "irrigation[T.irrigated] Var                      12.760    1.847                            \n",
      "block x density[T.low] Cov                       37.264                                     \n",
      "irrigation[T.irrigated] x density[T.low] Cov     -3.270    1.867                            \n",
      "density[T.low] Var                               61.374                                     \n",
      "block x density[T.medium] Cov                    30.250                                     \n",
      "irrigation[T.irrigated] x density[T.medium] Cov  -8.924    2.731                            \n",
      "density[T.low] x density[T.medium] Cov           14.037                                     \n",
      "density[T.medium] Var                           105.482                                     \n",
      "============================================================================================\n",
      "\n"
     ]
    },
    {
     "name": "stderr",
     "output_type": "stream",
     "text": [
      "/Users/jorgegustavorodriguezaboytes/myfirstcode/env/lib/python3.11/site-packages/statsmodels/base/model.py:607: ConvergenceWarning: Maximum Likelihood optimization failed to converge. Check mle_retvals\n",
      "  warnings.warn(\"Maximum Likelihood optimization failed to \"\n",
      "/Users/jorgegustavorodriguezaboytes/myfirstcode/env/lib/python3.11/site-packages/statsmodels/regression/mixed_linear_model.py:2200: ConvergenceWarning: Retrying MixedLM optimization with lbfgs\n",
      "  warnings.warn(\n",
      "/Users/jorgegustavorodriguezaboytes/myfirstcode/env/lib/python3.11/site-packages/statsmodels/base/model.py:607: ConvergenceWarning: Maximum Likelihood optimization failed to converge. Check mle_retvals\n",
      "  warnings.warn(\"Maximum Likelihood optimization failed to \"\n",
      "/Users/jorgegustavorodriguezaboytes/myfirstcode/env/lib/python3.11/site-packages/statsmodels/regression/mixed_linear_model.py:2200: ConvergenceWarning: Retrying MixedLM optimization with cg\n",
      "  warnings.warn(\n",
      "/Users/jorgegustavorodriguezaboytes/myfirstcode/env/lib/python3.11/site-packages/statsmodels/base/model.py:607: ConvergenceWarning: Maximum Likelihood optimization failed to converge. Check mle_retvals\n",
      "  warnings.warn(\"Maximum Likelihood optimization failed to \"\n",
      "/Users/jorgegustavorodriguezaboytes/myfirstcode/env/lib/python3.11/site-packages/statsmodels/regression/mixed_linear_model.py:2206: ConvergenceWarning: MixedLM optimization failed, trying a different optimizer may help.\n",
      "  warnings.warn(msg, ConvergenceWarning)\n",
      "/Users/jorgegustavorodriguezaboytes/myfirstcode/env/lib/python3.11/site-packages/statsmodels/regression/mixed_linear_model.py:2218: ConvergenceWarning: Gradient optimization failed, |grad| = 5.974382\n",
      "  warnings.warn(msg, ConvergenceWarning)\n",
      "/Users/jorgegustavorodriguezaboytes/myfirstcode/env/lib/python3.11/site-packages/statsmodels/regression/mixed_linear_model.py:2261: ConvergenceWarning: The Hessian matrix at the estimated parameter values is not positive definite.\n",
      "  warnings.warn(msg, ConvergenceWarning)\n"
     ]
    }
   ],
   "source": [
    "model = mixedlm(\"yield_output ~ (irrigation + density + fertilizer)\", df, groups=\"block\", re_formula=\"~irrigation + density\")\n",
    "result = model.fit()\n",
    "\n",
    "# Summary of results\n",
    "print(result.summary())"
   ]
  },
  {
   "cell_type": "code",
   "execution_count": 16,
   "id": "15b1f031-8da7-46c6-b01a-165bfa143d29",
   "metadata": {},
   "outputs": [
    {
     "name": "stdout",
     "output_type": "stream",
     "text": [
      "                            Mixed Linear Model Regression Results\n",
      "=============================================================================================\n",
      "Model:                         MixedLM            Dependent Variable:            yield_output\n",
      "No. Observations:              72                 Method:                        REML        \n",
      "No. Groups:                    4                  Scale:                         106.9555    \n",
      "Min. group size:               18                 Log-Likelihood:                -235.7698   \n",
      "Max. group size:               18                 Converged:                     No          \n",
      "Mean group size:               18.0                                                          \n",
      "---------------------------------------------------------------------------------------------\n",
      "                                                 Coef.  Std.Err.   z    P>|z|  [0.025  0.975]\n",
      "---------------------------------------------------------------------------------------------\n",
      "Intercept                                        82.472    4.650 17.737 0.000  73.359  91.585\n",
      "irrigation[T.irrigated]                          27.806    6.810  4.083 0.000  14.459  41.152\n",
      "density[T.low]                                    0.875    6.389  0.137 0.891 -11.647  13.397\n",
      "density[T.medium]                                13.458    6.738  1.997 0.046   0.253  26.664\n",
      "fertilizer[T.NP]                                  3.583    5.971  0.600 0.548  -8.119  15.286\n",
      "fertilizer[T.P]                                   0.500    5.971  0.084 0.933 -11.203  12.203\n",
      "irrigation[T.irrigated]:density[T.low]          -29.750    5.971 -4.982 0.000 -41.453 -18.047\n",
      "irrigation[T.irrigated]:density[T.medium]       -19.667    5.971 -3.294 0.001 -31.369  -7.964\n",
      "irrigation[T.irrigated]:fertilizer[T.NP]         16.833    5.971  2.819 0.005   5.131  28.536\n",
      "irrigation[T.irrigated]:fertilizer[T.P]          13.500    5.971  2.261 0.024   1.797  25.203\n",
      "density[T.low]:fertilizer[T.NP]                   7.125    7.313  0.974 0.330  -7.208  21.458\n",
      "density[T.medium]:fertilizer[T.NP]               -4.875    7.313 -0.667 0.505 -19.208   9.458\n",
      "density[T.low]:fertilizer[T.P]                    4.750    7.313  0.650 0.516  -9.583  19.083\n",
      "density[T.medium]:fertilizer[T.P]                -3.500    7.313 -0.479 0.632 -17.833  10.833\n",
      "block Var                                         3.292                                      \n",
      "block x irrigation[T.irrigated] Cov               2.507    3.824                             \n",
      "irrigation[T.irrigated] Var                      66.652    6.933                             \n",
      "block x density[T.low] Cov                        4.005    3.120                             \n",
      "irrigation[T.irrigated] x density[T.low] Cov    -26.068    4.701                             \n",
      "density[T.low] Var                               20.658    5.115                             \n",
      "block x density[T.medium] Cov                     3.027                                      \n",
      "irrigation[T.irrigated] x density[T.medium] Cov -36.443    6.025                             \n",
      "density[T.low] x density[T.medium] Cov           26.690    4.541                             \n",
      "density[T.medium] Var                            38.983    7.015                             \n",
      "=============================================================================================\n",
      "\n"
     ]
    },
    {
     "name": "stderr",
     "output_type": "stream",
     "text": [
      "/Users/jorgegustavorodriguezaboytes/myfirstcode/env/lib/python3.11/site-packages/statsmodels/base/model.py:607: ConvergenceWarning: Maximum Likelihood optimization failed to converge. Check mle_retvals\n",
      "  warnings.warn(\"Maximum Likelihood optimization failed to \"\n",
      "/Users/jorgegustavorodriguezaboytes/myfirstcode/env/lib/python3.11/site-packages/statsmodels/regression/mixed_linear_model.py:2200: ConvergenceWarning: Retrying MixedLM optimization with lbfgs\n",
      "  warnings.warn(\n",
      "/Users/jorgegustavorodriguezaboytes/myfirstcode/env/lib/python3.11/site-packages/statsmodels/base/model.py:607: ConvergenceWarning: Maximum Likelihood optimization failed to converge. Check mle_retvals\n",
      "  warnings.warn(\"Maximum Likelihood optimization failed to \"\n",
      "/Users/jorgegustavorodriguezaboytes/myfirstcode/env/lib/python3.11/site-packages/statsmodels/regression/mixed_linear_model.py:2200: ConvergenceWarning: Retrying MixedLM optimization with cg\n",
      "  warnings.warn(\n",
      "/Users/jorgegustavorodriguezaboytes/myfirstcode/env/lib/python3.11/site-packages/statsmodels/base/model.py:607: ConvergenceWarning: Maximum Likelihood optimization failed to converge. Check mle_retvals\n",
      "  warnings.warn(\"Maximum Likelihood optimization failed to \"\n",
      "/Users/jorgegustavorodriguezaboytes/myfirstcode/env/lib/python3.11/site-packages/statsmodels/regression/mixed_linear_model.py:2206: ConvergenceWarning: MixedLM optimization failed, trying a different optimizer may help.\n",
      "  warnings.warn(msg, ConvergenceWarning)\n",
      "/Users/jorgegustavorodriguezaboytes/myfirstcode/env/lib/python3.11/site-packages/statsmodels/regression/mixed_linear_model.py:2218: ConvergenceWarning: Gradient optimization failed, |grad| = 6.153083\n",
      "  warnings.warn(msg, ConvergenceWarning)\n",
      "/Users/jorgegustavorodriguezaboytes/myfirstcode/env/lib/python3.11/site-packages/statsmodels/regression/mixed_linear_model.py:2261: ConvergenceWarning: The Hessian matrix at the estimated parameter values is not positive definite.\n",
      "  warnings.warn(msg, ConvergenceWarning)\n"
     ]
    }
   ],
   "source": [
    "# Define the fixed effects formula explicitly\n",
    "formula = \"yield_output ~ irrigation + density + fertilizer + irrigation:density + irrigation:fertilizer + density:fertilizer\"\n",
    "\n",
    "# Define the model\n",
    "model = mixedlm(formula, df, groups=\"block\", re_formula=\"~irrigation + density\")\n",
    "result = model.fit()\n",
    "\n",
    "# Summary of results\n",
    "print(result.summary())"
   ]
  },
  {
   "cell_type": "markdown",
   "id": "989b7d54-8cdf-4828-a148-8a496bef5389",
   "metadata": {},
   "source": [
    "## Happiness score"
   ]
  },
  {
   "cell_type": "code",
   "execution_count": 6,
   "id": "29db7c57-7ba0-43b9-8bf0-a91620ed8407",
   "metadata": {},
   "outputs": [
    {
     "data": {
      "text/html": [
       "<div>\n",
       "<style scoped>\n",
       "    .dataframe tbody tr th:only-of-type {\n",
       "        vertical-align: middle;\n",
       "    }\n",
       "\n",
       "    .dataframe tbody tr th {\n",
       "        vertical-align: top;\n",
       "    }\n",
       "\n",
       "    .dataframe thead th {\n",
       "        text-align: right;\n",
       "    }\n",
       "</style>\n",
       "<table border=\"1\" class=\"dataframe\">\n",
       "  <thead>\n",
       "    <tr style=\"text-align: right;\">\n",
       "      <th></th>\n",
       "      <th>Overall rank</th>\n",
       "      <th>Country or region</th>\n",
       "      <th>Score</th>\n",
       "      <th>GDP per capita</th>\n",
       "      <th>Social support</th>\n",
       "      <th>Healthy life expectancy</th>\n",
       "      <th>Freedom to make life choices</th>\n",
       "      <th>Generosity</th>\n",
       "      <th>Perceptions of corruption</th>\n",
       "    </tr>\n",
       "  </thead>\n",
       "  <tbody>\n",
       "    <tr>\n",
       "      <th>0</th>\n",
       "      <td>1</td>\n",
       "      <td>Finland</td>\n",
       "      <td>7.632</td>\n",
       "      <td>1.305</td>\n",
       "      <td>1.592</td>\n",
       "      <td>0.874</td>\n",
       "      <td>0.681</td>\n",
       "      <td>0.202</td>\n",
       "      <td>0.393</td>\n",
       "    </tr>\n",
       "    <tr>\n",
       "      <th>1</th>\n",
       "      <td>2</td>\n",
       "      <td>Norway</td>\n",
       "      <td>7.594</td>\n",
       "      <td>1.456</td>\n",
       "      <td>1.582</td>\n",
       "      <td>0.861</td>\n",
       "      <td>0.686</td>\n",
       "      <td>0.286</td>\n",
       "      <td>0.340</td>\n",
       "    </tr>\n",
       "    <tr>\n",
       "      <th>2</th>\n",
       "      <td>3</td>\n",
       "      <td>Denmark</td>\n",
       "      <td>7.555</td>\n",
       "      <td>1.351</td>\n",
       "      <td>1.590</td>\n",
       "      <td>0.868</td>\n",
       "      <td>0.683</td>\n",
       "      <td>0.284</td>\n",
       "      <td>0.408</td>\n",
       "    </tr>\n",
       "    <tr>\n",
       "      <th>3</th>\n",
       "      <td>4</td>\n",
       "      <td>Iceland</td>\n",
       "      <td>7.495</td>\n",
       "      <td>1.343</td>\n",
       "      <td>1.644</td>\n",
       "      <td>0.914</td>\n",
       "      <td>0.677</td>\n",
       "      <td>0.353</td>\n",
       "      <td>0.138</td>\n",
       "    </tr>\n",
       "    <tr>\n",
       "      <th>4</th>\n",
       "      <td>5</td>\n",
       "      <td>Switzerland</td>\n",
       "      <td>7.487</td>\n",
       "      <td>1.420</td>\n",
       "      <td>1.549</td>\n",
       "      <td>0.927</td>\n",
       "      <td>0.660</td>\n",
       "      <td>0.256</td>\n",
       "      <td>0.357</td>\n",
       "    </tr>\n",
       "  </tbody>\n",
       "</table>\n",
       "</div>"
      ],
      "text/plain": [
       "   Overall rank Country or region  Score  GDP per capita  Social support  \\\n",
       "0             1           Finland  7.632           1.305           1.592   \n",
       "1             2            Norway  7.594           1.456           1.582   \n",
       "2             3           Denmark  7.555           1.351           1.590   \n",
       "3             4           Iceland  7.495           1.343           1.644   \n",
       "4             5       Switzerland  7.487           1.420           1.549   \n",
       "\n",
       "   Healthy life expectancy  Freedom to make life choices  Generosity  \\\n",
       "0                    0.874                         0.681       0.202   \n",
       "1                    0.861                         0.686       0.286   \n",
       "2                    0.868                         0.683       0.284   \n",
       "3                    0.914                         0.677       0.353   \n",
       "4                    0.927                         0.660       0.256   \n",
       "\n",
       "   Perceptions of corruption  \n",
       "0                      0.393  \n",
       "1                      0.340  \n",
       "2                      0.408  \n",
       "3                      0.138  \n",
       "4                      0.357  "
      ]
     },
     "execution_count": 6,
     "metadata": {},
     "output_type": "execute_result"
    }
   ],
   "source": [
    "happy_data = pd.read_csv(\"data/2018.csv\",sep=',')\n",
    "happy_data.head()"
   ]
  },
  {
   "cell_type": "code",
   "execution_count": 7,
   "id": "df674612-3119-45df-b2e2-7256ac302726",
   "metadata": {
    "collapsed": true,
    "jupyter": {
     "outputs_hidden": true
    }
   },
   "outputs": [
    {
     "name": "stdout",
     "output_type": "stream",
     "text": [
      "<class 'pandas.core.frame.DataFrame'>\n",
      "RangeIndex: 156 entries, 0 to 155\n",
      "Data columns (total 9 columns):\n",
      " #   Column                        Non-Null Count  Dtype  \n",
      "---  ------                        --------------  -----  \n",
      " 0   Overall rank                  156 non-null    int64  \n",
      " 1   Country or region             156 non-null    object \n",
      " 2   Score                         156 non-null    float64\n",
      " 3   GDP per capita                156 non-null    float64\n",
      " 4   Social support                156 non-null    float64\n",
      " 5   Healthy life expectancy       156 non-null    float64\n",
      " 6   Freedom to make life choices  156 non-null    float64\n",
      " 7   Generosity                    156 non-null    float64\n",
      " 8   Perceptions of corruption     156 non-null    float64\n",
      "dtypes: float64(7), int64(1), object(1)\n",
      "memory usage: 11.1+ KB\n"
     ]
    }
   ],
   "source": [
    "happy_data.info()"
   ]
  },
  {
   "cell_type": "code",
   "execution_count": 8,
   "id": "6c9a0a81-db83-4849-a209-c962e6798502",
   "metadata": {},
   "outputs": [],
   "source": [
    "happy_data = happy_data.rename(columns={'GDP per capita': 'GDP_per_capita', \n",
    "                                        'Social support': 'Social_support', \n",
    "                                        'Healthy life expectancy': 'Healthy_life_exp', \n",
    "                                        'Freedom to make life choices': 'Freedom_of_life_choices', \n",
    "                                        'Perceptions of corruption': 'Perceptions_of_corruption'})"
   ]
  },
  {
   "cell_type": "markdown",
   "id": "d9a8eaa0-c4c2-4caa-b4ee-e59f2fc498e1",
   "metadata": {},
   "source": [
    "### Null model"
   ]
  },
  {
   "cell_type": "code",
   "execution_count": 19,
   "id": "187d9af9-1163-4424-8b9f-f9ac990ad74b",
   "metadata": {},
   "outputs": [
    {
     "name": "stdout",
     "output_type": "stream",
     "text": [
      "                 Generalized Linear Model Regression Results                  \n",
      "==============================================================================\n",
      "Dep. Variable:                  Score   No. Observations:                  156\n",
      "Model:                            GLM   Df Residuals:                      155\n",
      "Model Family:                 Poisson   Df Model:                            0\n",
      "Link Function:                    Log   Scale:                          1.0000\n",
      "Method:                          IRLS   Log-Likelihood:                -293.67\n",
      "Date:                Wed, 11 Dec 2024   Deviance:                       36.719\n",
      "Time:                        16:02:13   Pearson chi2:                     36.1\n",
      "No. Iterations:                     4   Pseudo R-squ. (CS):          7.772e-16\n",
      "Covariance Type:            nonrobust                                         \n",
      "==============================================================================\n",
      "                 coef    std err          z      P>|z|      [0.025      0.975]\n",
      "------------------------------------------------------------------------------\n",
      "Intercept      1.6819      0.035     48.708      0.000       1.614       1.750\n",
      "==============================================================================\n",
      "AIC 589.3351336251733\n"
     ]
    }
   ],
   "source": [
    "formula = 'Score ~ 1'\n",
    "model = smf.glm(formula, happy_data, family = sm.families.Poisson())\n",
    "result = model.fit()\n",
    "print(result.summary())\n",
    "predictions = result.predict()\n",
    "print(\"AIC\", result.aic)"
   ]
  },
  {
   "cell_type": "code",
   "execution_count": 5,
   "id": "f4926806-9b07-42e8-8ec8-f492278339df",
   "metadata": {},
   "outputs": [],
   "source": [
    "happy_data_ind_var = happy_data.iloc[:, 3:]\n",
    "happy_data_dep_var = happy_data.loc[:, [\"Score\"]]"
   ]
  },
  {
   "cell_type": "markdown",
   "id": "e7fbc214-761f-4d4f-b7af-dca4f0a56aca",
   "metadata": {},
   "source": [
    "### Correlation"
   ]
  },
  {
   "cell_type": "code",
   "execution_count": 20,
   "id": "6e3c7bca-d4c3-4b7d-bd86-4a873aad209b",
   "metadata": {},
   "outputs": [
    {
     "data": {
      "text/plain": [
       "<Axes: >"
      ]
     },
     "execution_count": 20,
     "metadata": {},
     "output_type": "execute_result"
    },
    {
     "data": {
      "image/png": "[encoded data removed]",
      "text/plain": [
       "<Figure size 500x500 with 2 Axes>"
      ]
     },
     "metadata": {},
     "output_type": "display_data"
    }
   ],
   "source": [
    "plt.figure(figsize = (5,5))\n",
    "sns.heatmap(round(happy_data_ind_var.corr(method = 'spearman'),2), mask = np.tril(happy_data_ind_var.corr(method = 'spearman')), vmax=1, vmin=-1, \n",
    "            center=0,cmap='coolwarm', annot=True, annot_kws={\"size\": 10})"
   ]
  },
  {
   "cell_type": "code",
   "execution_count": 21,
   "id": "10f106be-14e3-485e-a3df-4ffcaf16bacc",
   "metadata": {},
   "outputs": [
    {
     "data": {
      "text/plain": [
       "array([[<Axes: title={'center': 'GDP_per_capita'}>,\n",
       "        <Axes: title={'center': 'Social_support'}>],\n",
       "       [<Axes: title={'center': 'Healthy_life_exp'}>,\n",
       "        <Axes: title={'center': 'Freedom_of_life_choices'}>],\n",
       "       [<Axes: title={'center': 'Generosity'}>,\n",
       "        <Axes: title={'center': 'Perceptions_of_corruption'}>]],\n",
       "      dtype=object)"
      ]
     },
     "execution_count": 21,
     "metadata": {},
     "output_type": "execute_result"
    },
    {
     "data": {
      "image/png": "[encoded data removed]",
      "text/plain": [
       "<Figure size 800x1000 with 6 Axes>"
      ]
     },
     "metadata": {},
     "output_type": "display_data"
    }
   ],
   "source": [
    "happy_data_ind_var.hist(figsize=(8,10))"
   ]
  },
  {
   "cell_type": "code",
   "execution_count": 22,
   "id": "8f9b93e8-c23e-4bda-bf66-3b5c5e62ff53",
   "metadata": {},
   "outputs": [],
   "source": [
    "x_train, x_test, y_train, y_test = train_test_split(happy_data_ind_var, happy_data_dep_var) # test_size=0.25 \n",
    "\n",
    "happy_data_train = pd.concat([x_train, y_train], axis=1)\n",
    "happy_data_test = pd.concat([x_test, y_test], axis=1)"
   ]
  },
  {
   "cell_type": "markdown",
   "id": "ad0ec421-3b63-48db-b918-fc076c1db152",
   "metadata": {},
   "source": [
    "### Reduction by AIC"
   ]
  },
  {
   "cell_type": "code",
   "execution_count": 10,
   "id": "deb75205-7137-4c48-8f6c-5e475d989e89",
   "metadata": {},
   "outputs": [],
   "source": [
    "aic_table = pd.DataFrame()"
   ]
  },
  {
   "cell_type": "code",
   "execution_count": 23,
   "id": "3146de94-8dae-49a7-b21f-ef0cd7a3da20",
   "metadata": {},
   "outputs": [
    {
     "name": "stdout",
     "output_type": "stream",
     "text": [
      "                 Generalized Linear Model Regression Results                  \n",
      "==============================================================================\n",
      "Dep. Variable:                  Score   No. Observations:                  117\n",
      "Model:                            GLM   Df Residuals:                      113\n",
      "Model Family:                 Poisson   Df Model:                            3\n",
      "Link Function:                    Log   Scale:                          1.0000\n",
      "Method:                          IRLS   Log-Likelihood:                -208.25\n",
      "Date:                Wed, 11 Dec 2024   Deviance:                       6.6646\n",
      "Time:                        16:02:32   Pearson chi2:                     6.66\n",
      "No. Iterations:                     4   Pseudo R-squ. (CS):             0.1790\n",
      "Covariance Type:            nonrobust                                         \n",
      "====================================================================================\n",
      "                       coef    std err          z      P>|z|      [0.025      0.975]\n",
      "------------------------------------------------------------------------------------\n",
      "Intercept            1.0318      0.171      6.017      0.000       0.696       1.368\n",
      "GDP_per_capita       0.2503      0.185      1.350      0.177      -0.113       0.614\n",
      "Social_support       0.2843      0.181      1.572      0.116      -0.070       0.639\n",
      "Healthy_life_exp     0.1038      0.306      0.340      0.734      -0.495       0.703\n",
      "====================================================================================\n",
      "AIC 424.5093253210697\n"
     ]
    }
   ],
   "source": [
    "formula = 'Score ~ GDP_per_capita + Social_support + Healthy_life_exp'\n",
    "model = smf.glm(formula, happy_data_train, family = sm.families.Poisson())\n",
    "result = model.fit()\n",
    "print(result.summary())\n",
    "print(\"AIC\", result.aic)"
   ]
  },
  {
   "cell_type": "markdown",
   "id": "11a136ce-a81d-4ad4-86e7-21fffcca8df2",
   "metadata": {},
   "source": [
    "### Variance inflation factor (VIF)"
   ]
  },
  {
   "cell_type": "code",
   "execution_count": 24,
   "id": "40647681-69fe-44d5-a657-4c1b91cd5eee",
   "metadata": {},
   "outputs": [],
   "source": [
    "from statsmodels.stats.outliers_influence import variance_inflation_factor\n",
    "from statsmodels.tools.tools import add_constant"
   ]
  },
  {
   "cell_type": "code",
   "execution_count": null,
   "id": "8eb119e2-bc52-4404-93b0-f4168f435c58",
   "metadata": {},
   "outputs": [],
   "source": [
    "happy_data_ind_var"
   ]
  },
  {
   "cell_type": "code",
   "execution_count": 37,
   "id": "2a065315-0c16-4ddd-90af-102e5ab36604",
   "metadata": {},
   "outputs": [
    {
     "data": {
      "text/html": [
       "<div>\n",
       "<style scoped>\n",
       "    .dataframe tbody tr th:only-of-type {\n",
       "        vertical-align: middle;\n",
       "    }\n",
       "\n",
       "    .dataframe tbody tr th {\n",
       "        vertical-align: top;\n",
       "    }\n",
       "\n",
       "    .dataframe thead th {\n",
       "        text-align: right;\n",
       "    }\n",
       "</style>\n",
       "<table border=\"1\" class=\"dataframe\">\n",
       "  <thead>\n",
       "    <tr style=\"text-align: right;\">\n",
       "      <th></th>\n",
       "      <th>Variable</th>\n",
       "    </tr>\n",
       "  </thead>\n",
       "  <tbody>\n",
       "    <tr>\n",
       "      <th>0</th>\n",
       "      <td>const</td>\n",
       "    </tr>\n",
       "    <tr>\n",
       "      <th>1</th>\n",
       "      <td>GDP_per_capita</td>\n",
       "    </tr>\n",
       "    <tr>\n",
       "      <th>2</th>\n",
       "      <td>Social_support</td>\n",
       "    </tr>\n",
       "    <tr>\n",
       "      <th>3</th>\n",
       "      <td>Healthy_life_exp</td>\n",
       "    </tr>\n",
       "    <tr>\n",
       "      <th>4</th>\n",
       "      <td>Freedom_of_life_choices</td>\n",
       "    </tr>\n",
       "    <tr>\n",
       "      <th>5</th>\n",
       "      <td>Generosity</td>\n",
       "    </tr>\n",
       "    <tr>\n",
       "      <th>6</th>\n",
       "      <td>Perceptions_of_corruption</td>\n",
       "    </tr>\n",
       "  </tbody>\n",
       "</table>\n",
       "</div>"
      ],
      "text/plain": [
       "                    Variable\n",
       "0                      const\n",
       "1             GDP_per_capita\n",
       "2             Social_support\n",
       "3           Healthy_life_exp\n",
       "4    Freedom_of_life_choices\n",
       "5                 Generosity\n",
       "6  Perceptions_of_corruption"
      ]
     },
     "execution_count": 37,
     "metadata": {},
     "output_type": "execute_result"
    }
   ],
   "source": [
    "vif = pd.DataFrame()\n",
    "\n",
    "X=happy_data_ind_var\n",
    "X_const=add_constant(X)\n",
    "\n",
    "vif[\"Variable\"] = X_const.columns\n",
    "vif"
   ]
  },
  {
   "cell_type": "code",
   "execution_count": 38,
   "id": "52240762-0804-4cc9-819b-02214e0ff72f",
   "metadata": {},
   "outputs": [
    {
     "data": {
      "text/html": [
       "<div>\n",
       "<style scoped>\n",
       "    .dataframe tbody tr th:only-of-type {\n",
       "        vertical-align: middle;\n",
       "    }\n",
       "\n",
       "    .dataframe tbody tr th {\n",
       "        vertical-align: top;\n",
       "    }\n",
       "\n",
       "    .dataframe thead th {\n",
       "        text-align: right;\n",
       "    }\n",
       "</style>\n",
       "<table border=\"1\" class=\"dataframe\">\n",
       "  <thead>\n",
       "    <tr style=\"text-align: right;\">\n",
       "      <th></th>\n",
       "      <th>Variable</th>\n",
       "      <th>VIF</th>\n",
       "    </tr>\n",
       "  </thead>\n",
       "  <tbody>\n",
       "    <tr>\n",
       "      <th>0</th>\n",
       "      <td>const</td>\n",
       "      <td>21.469159</td>\n",
       "    </tr>\n",
       "    <tr>\n",
       "      <th>1</th>\n",
       "      <td>GDP_per_capita</td>\n",
       "      <td>3.862909</td>\n",
       "    </tr>\n",
       "    <tr>\n",
       "      <th>2</th>\n",
       "      <td>Social_support</td>\n",
       "      <td>2.110644</td>\n",
       "    </tr>\n",
       "    <tr>\n",
       "      <th>3</th>\n",
       "      <td>Healthy_life_exp</td>\n",
       "      <td>3.759449</td>\n",
       "    </tr>\n",
       "    <tr>\n",
       "      <th>4</th>\n",
       "      <td>Freedom_of_life_choices</td>\n",
       "      <td>1.515044</td>\n",
       "    </tr>\n",
       "    <tr>\n",
       "      <th>5</th>\n",
       "      <td>Generosity</td>\n",
       "      <td>1.224693</td>\n",
       "    </tr>\n",
       "    <tr>\n",
       "      <th>6</th>\n",
       "      <td>Perceptions_of_corruption</td>\n",
       "      <td>1.472386</td>\n",
       "    </tr>\n",
       "  </tbody>\n",
       "</table>\n",
       "</div>"
      ],
      "text/plain": [
       "                    Variable        VIF\n",
       "0                      const  21.469159\n",
       "1             GDP_per_capita   3.862909\n",
       "2             Social_support   2.110644\n",
       "3           Healthy_life_exp   3.759449\n",
       "4    Freedom_of_life_choices   1.515044\n",
       "5                 Generosity   1.224693\n",
       "6  Perceptions_of_corruption   1.472386"
      ]
     },
     "execution_count": 38,
     "metadata": {},
     "output_type": "execute_result"
    }
   ],
   "source": [
    "vif_values = []\n",
    "# Calculate VIF for each variable\n",
    "for i in range(X_const.shape[1]):\n",
    "    vif_value = variance_inflation_factor(X_const.values, i)\n",
    "    vif_values.append(vif_value)\n",
    "\n",
    "vif[\"VIF\"] = vif_values\n",
    "vif"
   ]
  },
  {
   "cell_type": "code",
   "execution_count": 39,
   "id": "9636c735-ccfb-4922-b7a5-aa6e28f0cfad",
   "metadata": {},
   "outputs": [
    {
     "data": {
      "text/html": [
       "<div>\n",
       "<style scoped>\n",
       "    .dataframe tbody tr th:only-of-type {\n",
       "        vertical-align: middle;\n",
       "    }\n",
       "\n",
       "    .dataframe tbody tr th {\n",
       "        vertical-align: top;\n",
       "    }\n",
       "\n",
       "    .dataframe thead th {\n",
       "        text-align: right;\n",
       "    }\n",
       "</style>\n",
       "<table border=\"1\" class=\"dataframe\">\n",
       "  <thead>\n",
       "    <tr style=\"text-align: right;\">\n",
       "      <th></th>\n",
       "      <th>const</th>\n",
       "      <th>GDP_per_capita</th>\n",
       "      <th>Social_support</th>\n",
       "      <th>Healthy_life_exp</th>\n",
       "      <th>Freedom_of_life_choices</th>\n",
       "      <th>Generosity</th>\n",
       "      <th>Perceptions_of_corruption</th>\n",
       "    </tr>\n",
       "  </thead>\n",
       "  <tbody>\n",
       "    <tr>\n",
       "      <th>0</th>\n",
       "      <td>1.0</td>\n",
       "      <td>1.305</td>\n",
       "      <td>1.592</td>\n",
       "      <td>0.874</td>\n",
       "      <td>0.681</td>\n",
       "      <td>0.202</td>\n",
       "      <td>0.393</td>\n",
       "    </tr>\n",
       "    <tr>\n",
       "      <th>1</th>\n",
       "      <td>1.0</td>\n",
       "      <td>1.456</td>\n",
       "      <td>1.582</td>\n",
       "      <td>0.861</td>\n",
       "      <td>0.686</td>\n",
       "      <td>0.286</td>\n",
       "      <td>0.340</td>\n",
       "    </tr>\n",
       "    <tr>\n",
       "      <th>2</th>\n",
       "      <td>1.0</td>\n",
       "      <td>1.351</td>\n",
       "      <td>1.590</td>\n",
       "      <td>0.868</td>\n",
       "      <td>0.683</td>\n",
       "      <td>0.284</td>\n",
       "      <td>0.408</td>\n",
       "    </tr>\n",
       "    <tr>\n",
       "      <th>3</th>\n",
       "      <td>1.0</td>\n",
       "      <td>1.343</td>\n",
       "      <td>1.644</td>\n",
       "      <td>0.914</td>\n",
       "      <td>0.677</td>\n",
       "      <td>0.353</td>\n",
       "      <td>0.138</td>\n",
       "    </tr>\n",
       "    <tr>\n",
       "      <th>4</th>\n",
       "      <td>1.0</td>\n",
       "      <td>1.420</td>\n",
       "      <td>1.549</td>\n",
       "      <td>0.927</td>\n",
       "      <td>0.660</td>\n",
       "      <td>0.256</td>\n",
       "      <td>0.357</td>\n",
       "    </tr>\n",
       "    <tr>\n",
       "      <th>...</th>\n",
       "      <td>...</td>\n",
       "      <td>...</td>\n",
       "      <td>...</td>\n",
       "      <td>...</td>\n",
       "      <td>...</td>\n",
       "      <td>...</td>\n",
       "      <td>...</td>\n",
       "    </tr>\n",
       "    <tr>\n",
       "      <th>151</th>\n",
       "      <td>1.0</td>\n",
       "      <td>0.442</td>\n",
       "      <td>1.073</td>\n",
       "      <td>0.343</td>\n",
       "      <td>0.244</td>\n",
       "      <td>0.083</td>\n",
       "      <td>0.064</td>\n",
       "    </tr>\n",
       "    <tr>\n",
       "      <th>152</th>\n",
       "      <td>1.0</td>\n",
       "      <td>0.455</td>\n",
       "      <td>0.991</td>\n",
       "      <td>0.381</td>\n",
       "      <td>0.481</td>\n",
       "      <td>0.270</td>\n",
       "      <td>0.097</td>\n",
       "    </tr>\n",
       "    <tr>\n",
       "      <th>153</th>\n",
       "      <td>1.0</td>\n",
       "      <td>0.337</td>\n",
       "      <td>0.608</td>\n",
       "      <td>0.177</td>\n",
       "      <td>0.112</td>\n",
       "      <td>0.224</td>\n",
       "      <td>0.106</td>\n",
       "    </tr>\n",
       "    <tr>\n",
       "      <th>154</th>\n",
       "      <td>1.0</td>\n",
       "      <td>0.024</td>\n",
       "      <td>0.000</td>\n",
       "      <td>0.010</td>\n",
       "      <td>0.305</td>\n",
       "      <td>0.218</td>\n",
       "      <td>0.038</td>\n",
       "    </tr>\n",
       "    <tr>\n",
       "      <th>155</th>\n",
       "      <td>1.0</td>\n",
       "      <td>0.091</td>\n",
       "      <td>0.627</td>\n",
       "      <td>0.145</td>\n",
       "      <td>0.065</td>\n",
       "      <td>0.149</td>\n",
       "      <td>0.076</td>\n",
       "    </tr>\n",
       "  </tbody>\n",
       "</table>\n",
       "<p>156 rows × 7 columns</p>\n",
       "</div>"
      ],
      "text/plain": [
       "     const  GDP_per_capita  Social_support  Healthy_life_exp  \\\n",
       "0      1.0           1.305           1.592             0.874   \n",
       "1      1.0           1.456           1.582             0.861   \n",
       "2      1.0           1.351           1.590             0.868   \n",
       "3      1.0           1.343           1.644             0.914   \n",
       "4      1.0           1.420           1.549             0.927   \n",
       "..     ...             ...             ...               ...   \n",
       "151    1.0           0.442           1.073             0.343   \n",
       "152    1.0           0.455           0.991             0.381   \n",
       "153    1.0           0.337           0.608             0.177   \n",
       "154    1.0           0.024           0.000             0.010   \n",
       "155    1.0           0.091           0.627             0.145   \n",
       "\n",
       "     Freedom_of_life_choices  Generosity  Perceptions_of_corruption  \n",
       "0                      0.681       0.202                      0.393  \n",
       "1                      0.686       0.286                      0.340  \n",
       "2                      0.683       0.284                      0.408  \n",
       "3                      0.677       0.353                      0.138  \n",
       "4                      0.660       0.256                      0.357  \n",
       "..                       ...         ...                        ...  \n",
       "151                    0.244       0.083                      0.064  \n",
       "152                    0.481       0.270                      0.097  \n",
       "153                    0.112       0.224                      0.106  \n",
       "154                    0.305       0.218                      0.038  \n",
       "155                    0.065       0.149                      0.076  \n",
       "\n",
       "[156 rows x 7 columns]"
      ]
     },
     "execution_count": 39,
     "metadata": {},
     "output_type": "execute_result"
    }
   ],
   "source": [
    "X_const"
   ]
  },
  {
   "cell_type": "markdown",
   "id": "4c0bac2b-5747-4df6-b094-e80971578519",
   "metadata": {
    "jp-MarkdownHeadingCollapsed": true
   },
   "source": [
    "## House Prices"
   ]
  },
  {
   "cell_type": "code",
   "execution_count": 44,
   "id": "96720c92-ab72-49d5-9861-8d238c801ce5",
   "metadata": {},
   "outputs": [],
   "source": [
    "house_df = pd.read_csv(\"data/housing.csv\")"
   ]
  },
  {
   "cell_type": "code",
   "execution_count": 45,
   "id": "58ca2a12-e924-444a-b07a-c3a3f8f4c3b6",
   "metadata": {
    "scrolled": true
   },
   "outputs": [
    {
     "name": "stdout",
     "output_type": "stream",
     "text": [
      "<class 'pandas.core.frame.DataFrame'>\n",
      "RangeIndex: 1460 entries, 0 to 1459\n",
      "Data columns (total 81 columns):\n",
      " #   Column         Non-Null Count  Dtype  \n",
      "---  ------         --------------  -----  \n",
      " 0   Id             1460 non-null   int64  \n",
      " 1   MSSubClass     1460 non-null   int64  \n",
      " 2   MSZoning       1460 non-null   object \n",
      " 3   LotFrontage    1201 non-null   float64\n",
      " 4   LotArea        1460 non-null   int64  \n",
      " 5   Street         1460 non-null   object \n",
      " 6   Alley          91 non-null     object \n",
      " 7   LotShape       1460 non-null   object \n",
      " 8   LandContour    1460 non-null   object \n",
      " 9   Utilities      1460 non-null   object \n",
      " 10  LotConfig      1460 non-null   object \n",
      " 11  LandSlope      1460 non-null   object \n",
      " 12  Neighborhood   1460 non-null   object \n",
      " 13  Condition1     1460 non-null   object \n",
      " 14  Condition2     1460 non-null   object \n",
      " 15  BldgType       1460 non-null   object \n",
      " 16  HouseStyle     1460 non-null   object \n",
      " 17  OverallQual    1460 non-null   int64  \n",
      " 18  OverallCond    1460 non-null   int64  \n",
      " 19  YearBuilt      1460 non-null   int64  \n",
      " 20  YearRemodAdd   1460 non-null   int64  \n",
      " 21  RoofStyle      1460 non-null   object \n",
      " 22  RoofMatl       1460 non-null   object \n",
      " 23  Exterior1st    1460 non-null   object \n",
      " 24  Exterior2nd    1460 non-null   object \n",
      " 25  MasVnrType     588 non-null    object \n",
      " 26  MasVnrArea     1452 non-null   float64\n",
      " 27  ExterQual      1460 non-null   object \n",
      " 28  ExterCond      1460 non-null   object \n",
      " 29  Foundation     1460 non-null   object \n",
      " 30  BsmtQual       1423 non-null   object \n",
      " 31  BsmtCond       1423 non-null   object \n",
      " 32  BsmtExposure   1422 non-null   object \n",
      " 33  BsmtFinType1   1423 non-null   object \n",
      " 34  BsmtFinSF1     1460 non-null   int64  \n",
      " 35  BsmtFinType2   1422 non-null   object \n",
      " 36  BsmtFinSF2     1460 non-null   int64  \n",
      " 37  BsmtUnfSF      1460 non-null   int64  \n",
      " 38  TotalBsmtSF    1460 non-null   int64  \n",
      " 39  Heating        1460 non-null   object \n",
      " 40  HeatingQC      1460 non-null   object \n",
      " 41  CentralAir     1460 non-null   object \n",
      " 42  Electrical     1459 non-null   object \n",
      " 43  1stFlrSF       1460 non-null   int64  \n",
      " 44  2ndFlrSF       1460 non-null   int64  \n",
      " 45  LowQualFinSF   1460 non-null   int64  \n",
      " 46  GrLivArea      1460 non-null   int64  \n",
      " 47  BsmtFullBath   1460 non-null   int64  \n",
      " 48  BsmtHalfBath   1460 non-null   int64  \n",
      " 49  FullBath       1460 non-null   int64  \n",
      " 50  HalfBath       1460 non-null   int64  \n",
      " 51  BedroomAbvGr   1460 non-null   int64  \n",
      " 52  KitchenAbvGr   1460 non-null   int64  \n",
      " 53  KitchenQual    1460 non-null   object \n",
      " 54  TotRmsAbvGrd   1460 non-null   int64  \n",
      " 55  Functional     1460 non-null   object \n",
      " 56  Fireplaces     1460 non-null   int64  \n",
      " 57  FireplaceQu    770 non-null    object \n",
      " 58  GarageType     1379 non-null   object \n",
      " 59  GarageYrBlt    1379 non-null   float64\n",
      " 60  GarageFinish   1379 non-null   object \n",
      " 61  GarageCars     1460 non-null   int64  \n",
      " 62  GarageArea     1460 non-null   int64  \n",
      " 63  GarageQual     1379 non-null   object \n",
      " 64  GarageCond     1379 non-null   object \n",
      " 65  PavedDrive     1460 non-null   object \n",
      " 66  WoodDeckSF     1460 non-null   int64  \n",
      " 67  OpenPorchSF    1460 non-null   int64  \n",
      " 68  EnclosedPorch  1460 non-null   int64  \n",
      " 69  3SsnPorch      1460 non-null   int64  \n",
      " 70  ScreenPorch    1460 non-null   int64  \n",
      " 71  PoolArea       1460 non-null   int64  \n",
      " 72  PoolQC         7 non-null      object \n",
      " 73  Fence          281 non-null    object \n",
      " 74  MiscFeature    54 non-null     object \n",
      " 75  MiscVal        1460 non-null   int64  \n",
      " 76  MoSold         1460 non-null   int64  \n",
      " 77  YrSold         1460 non-null   int64  \n",
      " 78  SaleType       1460 non-null   object \n",
      " 79  SaleCondition  1460 non-null   object \n",
      " 80  SalePrice      1460 non-null   int64  \n",
      "dtypes: float64(3), int64(35), object(43)\n",
      "memory usage: 924.0+ KB\n"
     ]
    }
   ],
   "source": [
    "house_df.info()"
   ]
  }
 ],
 "metadata": {
  "kernelspec": {
   "display_name": "myfirstcode",
   "language": "python",
   "name": "my_first_code"
  },
  "language_info": {
   "codemirror_mode": {
    "name": "ipython",
    "version": 3
   },
   "file_extension": ".py",
   "mimetype": "text/x-python",
   "name": "python",
   "nbconvert_exporter": "python",
   "pygments_lexer": "ipython3",
   "version": "3.11.10"
  }
 },
 "nbformat": 4,
 "nbformat_minor": 5
}
