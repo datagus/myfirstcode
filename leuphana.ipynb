{
 "cells": [
  {
   "cell_type": "code",
   "execution_count": 1,
   "id": "c45a0bc5-e4f9-4abc-be11-51d45a440088",
   "metadata": {},
   "outputs": [
    {
     "name": "stdout",
     "output_type": "stream",
     "text": [
      "Hello Leuphana\n"
     ]
    }
   ],
   "source": [
    "print(\"Hello Leuphana\")"
   ]
  },
  {
   "cell_type": "code",
   "execution_count": 2,
   "id": "10977290-f2b7-4574-a192-65fcc2dd567b",
   "metadata": {},
   "outputs": [
    {
     "name": "stdout",
     "output_type": "stream",
     "text": [
      "hello mom\n"
     ]
    }
   ],
   "source": [
    "x = 100*343\n",
    "print(\"hello mom\")"
   ]
  }
 ],
 "metadata": {
  "kernelspec": {
   "display_name": "myfirstcode",
   "language": "python",
   "name": "my_first_code"
  },
  "language_info": {
   "codemirror_mode": {
    "name": "ipython",
    "version": 3
   },
   "file_extension": ".py",
   "mimetype": "text/x-python",
   "name": "python",
   "nbconvert_exporter": "python",
   "pygments_lexer": "ipython3",
   "version": "3.11.10"
  }
 },
 "nbformat": 4,
 "nbformat_minor": 5
}
