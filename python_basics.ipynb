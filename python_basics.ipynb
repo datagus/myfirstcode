{
 "cells": [
  {
   "cell_type": "markdown",
   "id": "6dcc01d5-f362-4f22-bbfb-34a6b8c25fcb",
   "metadata": {},
   "source": [
    "# Your first lines of code"
   ]
  },
  {
   "cell_type": "markdown",
   "id": "a949936b-f82e-43c7-8579-d2f71a3d3821",
   "metadata": {},
   "source": [
    "# DATA SCIENCE IS COOL"
   ]
  },
  {
   "cell_type": "code",
   "execution_count": null,
   "id": "97d624a9-11c0-4dd5-bdec-61b13541b94b",
   "metadata": {},
   "outputs": [],
   "source": [
    "#print hello darkness my old friend in upper case\n",
    "print()"
   ]
  },
  {
   "cell_type": "code",
   "execution_count": 83,
   "id": "c8d56e0b-42d9-458a-99fd-20d28ec7fedf",
   "metadata": {},
   "outputs": [
    {
     "data": {
      "text/plain": [
       "\u001b[0;31mSignature:\u001b[0m \u001b[0mprint\u001b[0m\u001b[0;34m(\u001b[0m\u001b[0;34m*\u001b[0m\u001b[0margs\u001b[0m\u001b[0;34m,\u001b[0m \u001b[0msep\u001b[0m\u001b[0;34m=\u001b[0m\u001b[0;34m' '\u001b[0m\u001b[0;34m,\u001b[0m \u001b[0mend\u001b[0m\u001b[0;34m=\u001b[0m\u001b[0;34m'\\n'\u001b[0m\u001b[0;34m,\u001b[0m \u001b[0mfile\u001b[0m\u001b[0;34m=\u001b[0m\u001b[0;32mNone\u001b[0m\u001b[0;34m,\u001b[0m \u001b[0mflush\u001b[0m\u001b[0;34m=\u001b[0m\u001b[0;32mFalse\u001b[0m\u001b[0;34m)\u001b[0m\u001b[0;34m\u001b[0m\u001b[0;34m\u001b[0m\u001b[0m\n",
       "\u001b[0;31mDocstring:\u001b[0m\n",
       "Prints the values to a stream, or to sys.stdout by default.\n",
       "\n",
       "sep\n",
       "  string inserted between values, default a space.\n",
       "end\n",
       "  string appended after the last value, default a newline.\n",
       "file\n",
       "  a file-like object (stream); defaults to the current sys.stdout.\n",
       "flush\n",
       "  whether to forcibly flush the stream.\n",
       "\u001b[0;31mType:\u001b[0m      builtin_function_or_method"
      ]
     },
     "metadata": {},
     "output_type": "display_data"
    }
   ],
   "source": [
    "??print"
   ]
  },
  {
   "cell_type": "markdown",
   "id": "f99def5e-bf13-48f3-8fab-d1384c1e5061",
   "metadata": {},
   "source": [
    "## 1. Variables and Data Types"
   ]
  },
  {
   "cell_type": "markdown",
   "id": "311c7279-6e35-43ef-a421-a8c6f2231892",
   "metadata": {},
   "source": [
    "\n",
    "Variable names should be descriptive and avoid abbreviations unless they are commonly understood. Variables should start with a letter or underscore and can contain letters, numbers, or underscores, but they should not start with a number. Additionally, reserved keywords in Python, such as class, def, or return, should not be used as variable names. The goal of these conventions is to make code easier to read and maintain.\n"
   ]
  },
  {
   "cell_type": "markdown",
   "id": "cfff0306-5afc-413a-926f-7ad12733b615",
   "metadata": {},
   "source": [
    "Python basic built-in data types such as\n",
    "1. floats\n",
    "2. integers\n",
    "3. strings\n",
    "4. booleans"
   ]
  },
  {
   "cell_type": "code",
   "execution_count": 22,
   "id": "d9f326ea-2f06-49cc-866e-372aefdc2334",
   "metadata": {},
   "outputs": [],
   "source": [
    "bank_balance = 5000.75  # A float representing a bank balance in USD\n",
    "days_in_week = 7        # Integer representing the days in a week\n",
    "my_dog_name = \"Baby Furiosa\" #string value\n",
    "veredict = True"
   ]
  },
  {
   "cell_type": "code",
   "execution_count": 23,
   "id": "1c77fc96-bbe5-4d35-92e1-acf2ad296e8c",
   "metadata": {},
   "outputs": [
    {
     "name": "stdout",
     "output_type": "stream",
     "text": [
      "<class 'float'>\n",
      "<class 'int'>\n",
      "<class 'str'>\n",
      "<class 'bool'>\n"
     ]
    }
   ],
   "source": [
    "# Checking the data types of variables\n",
    "print(type(bank_balance))  \n",
    "print(type(days_in_week)) \n",
    "print(type(my_dog_name))\n",
    "print(type(veredict))"
   ]
  },
  {
   "cell_type": "markdown",
   "id": "8dc98ee3-228d-49af-bcef-97c80be9fec7",
   "metadata": {},
   "source": [
    "\n",
    "In Python, strings can be enclosed in either single quotes (' ') or double quotes (\" \"), and both types are functionally equivalent. This flexibility allows you to choose the style that best fits your code or the context. For example, if your string contains a single quote, you can use double quotes to avoid needing an escape character, like \"It's a sunny day\". Similarly, if your string contains double quotes, you can use single quotes, like 'He said, \"Hello!\"'. If a string contains both single and double quotes, or if it spans multiple lines, you can use triple quotes (''' ''' or \"\"\" \"\"\"), which allow you to write multi-line strings or include both types of quotation marks without escaping them. Additionally, to include special characters like newlines (\\n) or tabs (\\t) within a string, you can use escape sequences prefixed with a backslash.\n",
    "\n"
   ]
  },
  {
   "cell_type": "markdown",
   "id": "1464674d-416c-4b99-954a-43f96c1797d2",
   "metadata": {},
   "source": [
    "## 2. Basic Arithmetic"
   ]
  },
  {
   "cell_type": "code",
   "execution_count": 16,
   "id": "7e0c9095-3d31-42cc-8c11-feac64d76535",
   "metadata": {},
   "outputs": [
    {
     "name": "stdout",
     "output_type": "stream",
     "text": [
      "7\n",
      "3\n",
      "10\n",
      "2.5\n",
      "2\n",
      "1\n",
      "25\n"
     ]
    }
   ],
   "source": [
    "a = 5\n",
    "b = 2\n",
    "\n",
    "# Addition\n",
    "print(a + b) \n",
    "\n",
    "# Subtraction\n",
    "print(a - b)  \n",
    "\n",
    "# Multiplication\n",
    "print(a * b)  \n",
    "\n",
    "# Division\n",
    "print(a / b)  \n",
    "\n",
    "# Integer Division (returns the floor of the division)\n",
    "print(a // b) \n",
    "\n",
    "# Modulus (remainder)\n",
    "print(a % b) \n",
    "\n",
    "# Exponentiation\n",
    "print(a ** b)  "
   ]
  },
  {
   "cell_type": "markdown",
   "id": "cecbf451-b7ac-4543-af40-79b9f7faed70",
   "metadata": {},
   "source": [
    "## 3. Comparison operators"
   ]
  },
  {
   "cell_type": "code",
   "execution_count": 24,
   "id": "69b33e69-516a-4ad8-b1ca-7241f2237de3",
   "metadata": {},
   "outputs": [
    {
     "name": "stdout",
     "output_type": "stream",
     "text": [
      "False\n",
      "True\n",
      "False\n",
      "True\n",
      "True\n",
      "True\n"
     ]
    }
   ],
   "source": [
    "# Example: Basic comparison operators\n",
    "\n",
    "x = 15\n",
    "y = 20\n",
    "\n",
    "# Equal to (==)\n",
    "print(x == y)  \n",
    "\n",
    "# Not equal to (!=)\n",
    "print(x != y) \n",
    "\n",
    "# Greater than (>)\n",
    "print(x > y)  \n",
    "\n",
    "# Less than (<)\n",
    "print(x < y)\n",
    "\n",
    "# Greater than or equal to (>=)\n",
    "print(x >= 10) \n",
    "\n",
    "# Less than or equal to (<=)\n",
    "print(y <= 20)  "
   ]
  },
  {
   "cell_type": "markdown",
   "id": "9dc7cf25-bcc6-4e01-a0d2-3747e9ecff64",
   "metadata": {},
   "source": [
    "## 4. Logical operators"
   ]
  },
  {
   "cell_type": "code",
   "execution_count": 26,
   "id": "68c56eed-98e1-4abc-8e34-cc1ea2503e93",
   "metadata": {},
   "outputs": [],
   "source": [
    "#Another way of assigning variables\n",
    "x, y, z = 5, 10, 15"
   ]
  },
  {
   "cell_type": "code",
   "execution_count": 27,
   "id": "82eb7fbd-4452-40ce-96d2-5716ba8a38a0",
   "metadata": {},
   "outputs": [
    {
     "name": "stdout",
     "output_type": "stream",
     "text": [
      "True\n",
      "True\n",
      "True\n"
     ]
    }
   ],
   "source": [
    "# Logical AND: both conditions must be True\n",
    "print((x < y) and (y < z)) \n",
    "\n",
    "# Logical OR: at least one condition must be True\n",
    "print((x > y) or (y < z)) \n",
    "\n",
    "# Logical NOT: inverts the condition\n",
    "print(not(x > y))"
   ]
  },
  {
   "cell_type": "markdown",
   "id": "02d5c153-da66-45e6-80e0-2555bada5e4f",
   "metadata": {},
   "source": [
    "In Python, | (bitwise OR) and & (bitwise AND) are typically used for bitwise operations on integers. However, they can also be used with logical operations when working with arrays or pandas dataframes (often seen in data science contexts). "
   ]
  },
  {
   "cell_type": "code",
   "execution_count": 32,
   "id": "5272f7a2-0917-4758-9efc-2a59df9a1463",
   "metadata": {},
   "outputs": [
    {
     "name": "stdout",
     "output_type": "stream",
     "text": [
      "True\n",
      "False\n"
     ]
    }
   ],
   "source": [
    "# Example: Using | and & for logical operations\n",
    "\n",
    "x = 10\n",
    "y = 5\n",
    "z = 2\n",
    "\n",
    "# Logical OR (|)\n",
    "print((x < y) | (z < y)) \n",
    "\n",
    "# Logical AND (&)\n",
    "print((y < x) & (z > y))\n",
    "\n",
    "#Always parentheses around expressions when using | and & for logical operations, to avoid operator precedence issues."
   ]
  },
  {
   "cell_type": "markdown",
   "id": "0e6d715e-2b9a-4994-847d-798e814b2677",
   "metadata": {},
   "source": [
    "## 5. Conditional statements"
   ]
  },
  {
   "cell_type": "code",
   "execution_count": 67,
   "id": "cc95070c-c14a-4499-9ec7-8f1665685114",
   "metadata": {},
   "outputs": [],
   "source": [
    "temperature = 85  # Temperature in Celsius\n",
    "\n",
    "if temperature > 90:\n",
    "    \"Temperature is too high, risk of fabric damage!\"\n",
    "elif temperature < 70:\n",
    "    \"Temperature is too low, inefficient dyeing process.\"\n",
    "else:\n",
    "    \"Temperature is within the optimal range for dyeing.\""
   ]
  },
  {
   "cell_type": "markdown",
   "id": "6c77d35d-6d8d-45de-b12f-b00f3e6b7d93",
   "metadata": {},
   "source": [
    " Strings"
   ]
  },
  {
   "cell_type": "code",
   "execution_count": 36,
   "id": "d086afcd-40cb-4371-bbde-0a80f8a1f82e",
   "metadata": {},
   "outputs": [],
   "source": [
    "text = \"Applied Statistical Data Analysis for Data Science Master Program \""
   ]
  },
  {
   "cell_type": "code",
   "execution_count": 39,
   "id": "09d9902b-35ab-42e7-b1fd-4e57aba795ff",
   "metadata": {},
   "outputs": [
    {
     "data": {
      "text/plain": [
       "'A'"
      ]
     },
     "execution_count": 39,
     "metadata": {},
     "output_type": "execute_result"
    }
   ],
   "source": [
    "# Indexing\n",
    "text[0]  # First character"
   ]
  },
  {
   "cell_type": "code",
   "execution_count": 38,
   "id": "5b491bfa-b15c-4fcb-8660-088d2ff6c8cd",
   "metadata": {},
   "outputs": [
    {
     "data": {
      "text/plain": [
       "' '"
      ]
     },
     "execution_count": 38,
     "metadata": {},
     "output_type": "execute_result"
    }
   ],
   "source": [
    "text[-1]  # Last character"
   ]
  },
  {
   "cell_type": "code",
   "execution_count": 40,
   "id": "e745f41c-b290-4f22-b5ae-6a5fc61eb98c",
   "metadata": {},
   "outputs": [
    {
     "data": {
      "text/plain": [
       "'Applied'"
      ]
     },
     "execution_count": 40,
     "metadata": {},
     "output_type": "execute_result"
    }
   ],
   "source": [
    "# Slicing\n",
    "text[0:7]  # Get characters from index 0 to 6"
   ]
  },
  {
   "cell_type": "code",
   "execution_count": 44,
   "id": "dcbf8f2c-69fa-4f4d-9e64-63a5710e1198",
   "metadata": {},
   "outputs": [
    {
     "data": {
      "text/plain": [
       "'Applied Statist'"
      ]
     },
     "execution_count": 44,
     "metadata": {},
     "output_type": "execute_result"
    }
   ],
   "source": [
    "text[:15] "
   ]
  },
  {
   "cell_type": "code",
   "execution_count": 45,
   "id": "35901550-3ff2-4789-8847-f9b4fc222585",
   "metadata": {},
   "outputs": [
    {
     "data": {
      "text/plain": [
       "'lied Statistical '"
      ]
     },
     "execution_count": 45,
     "metadata": {},
     "output_type": "execute_result"
    }
   ],
   "source": [
    "text[3:20]"
   ]
  },
  {
   "cell_type": "code",
   "execution_count": 51,
   "id": "7a323875-38e1-4b52-ac6a-c685689a200a",
   "metadata": {},
   "outputs": [
    {
     "data": {
      "text/plain": [
       "'Program'"
      ]
     },
     "execution_count": 51,
     "metadata": {},
     "output_type": "execute_result"
    }
   ],
   "source": [
    "text[-8:-1]"
   ]
  },
  {
   "cell_type": "code",
   "execution_count": 52,
   "id": "2014ac09-34cb-4514-9440-4b80b49058ea",
   "metadata": {},
   "outputs": [
    {
     "data": {
      "text/plain": [
       "66"
      ]
     },
     "execution_count": 52,
     "metadata": {},
     "output_type": "execute_result"
    }
   ],
   "source": [
    "# String length\n",
    "len(text)  # Length of the string"
   ]
  },
  {
   "cell_type": "code",
   "execution_count": 53,
   "id": "d1947f9d-36df-4eda-873b-3bfe7609faef",
   "metadata": {},
   "outputs": [
    {
     "data": {
      "text/plain": [
       "'APPLIED STATISTICAL DATA ANALYSIS FOR DATA SCIENCE MASTER PROGRAM '"
      ]
     },
     "execution_count": 53,
     "metadata": {},
     "output_type": "execute_result"
    }
   ],
   "source": [
    "# String methods\n",
    "text.upper()  # Convert to uppercase"
   ]
  },
  {
   "cell_type": "code",
   "execution_count": 54,
   "id": "22534f58-ef5f-48c4-ade7-b18092a4e28c",
   "metadata": {},
   "outputs": [
    {
     "data": {
      "text/plain": [
       "'applied statistical data analysis for data science master program '"
      ]
     },
     "execution_count": 54,
     "metadata": {},
     "output_type": "execute_result"
    }
   ],
   "source": [
    "text.lower()  # Convert to lowercase"
   ]
  },
  {
   "cell_type": "code",
   "execution_count": 55,
   "id": "0062aa86-9bbe-4c6e-b262-9cd60d57d392",
   "metadata": {},
   "outputs": [
    {
     "data": {
      "text/plain": [
       "'Applied Statistical Data Analysis for Data Science PhD Program '"
      ]
     },
     "execution_count": 55,
     "metadata": {},
     "output_type": "execute_result"
    }
   ],
   "source": [
    "text.replace(\"Master\", \"PhD\")  # Replace a substring"
   ]
  },
  {
   "cell_type": "code",
   "execution_count": 57,
   "id": "56b90d8d-bb89-4461-8a6c-c2c48e3e33bb",
   "metadata": {},
   "outputs": [
    {
     "data": {
      "text/plain": [
       "True"
      ]
     },
     "execution_count": 57,
     "metadata": {},
     "output_type": "execute_result"
    }
   ],
   "source": [
    "# Checking substrings\n",
    "\"Data\" in text  # Check if \"Data\" is in the string"
   ]
  },
  {
   "cell_type": "code",
   "execution_count": 66,
   "id": "77622a7e-eb2d-4482-a6bd-b81d0a330cd0",
   "metadata": {},
   "outputs": [
    {
     "data": {
      "text/plain": [
       "True"
      ]
     },
     "execution_count": 66,
     "metadata": {},
     "output_type": "execute_result"
    }
   ],
   "source": [
    "text.startswith(\"Applied\")  # Check if it starts with \"Applied\""
   ]
  },
  {
   "cell_type": "code",
   "execution_count": 59,
   "id": "4bb93e36-e73b-4ee6-bd4c-1df97e4381b9",
   "metadata": {},
   "outputs": [
    {
     "data": {
      "text/plain": [
       "False"
      ]
     },
     "execution_count": 59,
     "metadata": {},
     "output_type": "execute_result"
    }
   ],
   "source": [
    "text.endswith(\"Program\")  # Check if it ends with \"Program\""
   ]
  },
  {
   "cell_type": "code",
   "execution_count": 62,
   "id": "c5a0acde-e790-4f43-a938-a708974ef5fc",
   "metadata": {},
   "outputs": [
    {
     "data": {
      "text/plain": [
       "20"
      ]
     },
     "execution_count": 62,
     "metadata": {},
     "output_type": "execute_result"
    }
   ],
   "source": [
    "# Using find method\n",
    "text.find(\"Data\")  # Find the index of the first occurrence of \"Data\""
   ]
  },
  {
   "cell_type": "code",
   "execution_count": 63,
   "id": "0e3c2205-14bd-468e-a2e6-874ceeba421c",
   "metadata": {},
   "outputs": [
    {
     "data": {
      "text/plain": [
       "'D'"
      ]
     },
     "execution_count": 63,
     "metadata": {},
     "output_type": "execute_result"
    }
   ],
   "source": [
    "text[20]"
   ]
  },
  {
   "cell_type": "code",
   "execution_count": 64,
   "id": "0347f3a9-f578-4853-b999-c6580b96d59d",
   "metadata": {},
   "outputs": [
    {
     "data": {
      "text/plain": [
       "'Applied Statistical Data Analysis for Data Science Master Program'"
      ]
     },
     "execution_count": 64,
     "metadata": {},
     "output_type": "execute_result"
    }
   ],
   "source": [
    "# Using strip method\n",
    "text.strip()  # Remove leading and trailing whitespace"
   ]
  },
  {
   "cell_type": "code",
   "execution_count": 65,
   "id": "9c73f29f-9375-4553-9e2b-c4f0635ca9de",
   "metadata": {
    "collapsed": true,
    "jupyter": {
     "outputs_hidden": true
    }
   },
   "outputs": [
    {
     "name": "stdout",
     "output_type": "stream",
     "text": [
      "A\n",
      "p\n",
      "p\n",
      "l\n",
      "i\n",
      "e\n",
      "d\n",
      " \n",
      "S\n",
      "t\n",
      "a\n",
      "t\n",
      "i\n",
      "s\n",
      "t\n",
      "i\n",
      "c\n",
      "a\n",
      "l\n",
      " \n",
      "D\n",
      "a\n",
      "t\n",
      "a\n",
      " \n",
      "A\n",
      "n\n",
      "a\n",
      "l\n",
      "y\n",
      "s\n",
      "i\n",
      "s\n",
      " \n",
      "f\n",
      "o\n",
      "r\n",
      " \n",
      "D\n",
      "a\n",
      "t\n",
      "a\n",
      " \n",
      "S\n",
      "c\n",
      "i\n",
      "e\n",
      "n\n",
      "c\n",
      "e\n",
      " \n",
      "M\n",
      "a\n",
      "s\n",
      "t\n",
      "e\n",
      "r\n",
      " \n",
      "P\n",
      "r\n",
      "o\n",
      "g\n",
      "r\n",
      "a\n",
      "m\n",
      " \n"
     ]
    }
   ],
   "source": [
    "for char in text:\n",
    "    # Do something with each character, here we will just display it\n",
    "    print(char)"
   ]
  },
  {
   "cell_type": "code",
   "execution_count": 70,
   "id": "26c1398b-27fb-4efe-808e-d3c24e321748",
   "metadata": {},
   "outputs": [
    {
     "data": {
      "text/plain": [
       "'Applied Statistical Data Analysis for Data Science Master Program aaaaa'"
      ]
     },
     "execution_count": 70,
     "metadata": {},
     "output_type": "execute_result"
    }
   ],
   "source": [
    "text + \"aaaaa\""
   ]
  },
  {
   "cell_type": "markdown",
   "id": "c71d9305-e274-4034-a4b1-d44111bbf95c",
   "metadata": {},
   "source": [
    "## 6. More Data Types"
   ]
  },
  {
   "cell_type": "markdown",
   "id": "23dc71bb-5300-4b19-b504-5fb68642b62b",
   "metadata": {},
   "source": [
    "Python has more data structures such tuples, sets, lists, and dictionaries"
   ]
  },
  {
   "cell_type": "markdown",
   "id": "6fa35aab-52a4-426e-8606-18e402fdde9e",
   "metadata": {},
   "source": [
    "Tuple\n",
    "\n",
    "\t•\tOrdered: The elements have a defined order and can be accessed using an index.\n",
    "\t•\tImmutable: Once created, you cannot modify, add, or remove elements. This makes tuples suitable for storing fixed collections of items.\n",
    "\t•\tExample use case: Storing dimensions, coordinates, or related fixed data like (length, width, height).\n"
   ]
  },
  {
   "cell_type": "code",
   "execution_count": 86,
   "id": "21b78126-4058-4167-aa0a-e4af7cac266a",
   "metadata": {},
   "outputs": [
    {
     "data": {
      "text/plain": [
       "0.5"
      ]
     },
     "execution_count": 86,
     "metadata": {},
     "output_type": "execute_result"
    }
   ],
   "source": [
    "fabric_dimensions = (10, 5, 0.5)\n",
    "\n",
    "# Accessing tuple elements\n",
    "fabric_dimensions[0]  # Length\n",
    "fabric_dimensions[1]  # Width\n",
    "fabric_dimensions[2]  # Height"
   ]
  },
  {
   "cell_type": "markdown",
   "id": "69d11208-146f-41e8-8dfa-951d445d52ec",
   "metadata": {},
   "source": [
    "Set\n",
    "\n",
    "\t•\tUnordered: Sets do not maintain the order of elements, and items cannot be accessed by index.\n",
    "\t•\tUnique elements: Sets automatically remove duplicate elements and store only unique items.\n",
    "\t•\tMutable: You can add or remove elements, but elements themselves must be immutable (e.g., no lists or sets within a set).\n",
    "\t•\tExample use case: Storing unique values, like a collection of unique colors in a textile process."
   ]
  },
  {
   "cell_type": "code",
   "execution_count": 75,
   "id": "bb98c465-2b2e-4437-b8b5-87e9200d0947",
   "metadata": {},
   "outputs": [],
   "source": [
    "# Set example: Storing unique colors used in a dyeing process\n",
    "dye_colors = {\"red\", \"blue\", \"green\", \"blue\"}  # Duplicate \"blue\" will be ignored\n",
    "\n",
    "# Adding a new color to the set\n",
    "dye_colors.add(\"yellow\")\n",
    "\n",
    "# Checking if a color is in the set\n",
    "\"blue\" in dye_colors\n",
    "\n",
    "# Removing a color\n",
    "dye_colors.remove(\"green\")"
   ]
  },
  {
   "cell_type": "markdown",
   "id": "6c0e8be5-c176-42c8-baf5-a1e0b955bf08",
   "metadata": {},
   "source": [
    "List\n",
    "\n",
    "\t•\tOrdered: The elements have a defined order and can be accessed or modified using an index.\n",
    "\t•\tMutable: You can modify, add, or remove elements after the list is created.\n",
    "\t•\tAllows duplicates: Lists can store duplicate elements."
   ]
  },
  {
   "cell_type": "code",
   "execution_count": 91,
   "id": "6048981a-0179-47e7-8e33-34c94d06410a",
   "metadata": {},
   "outputs": [
    {
     "data": {
      "text/plain": [
       "['polyester', 'linen']"
      ]
     },
     "execution_count": 91,
     "metadata": {},
     "output_type": "execute_result"
    }
   ],
   "source": [
    "fabric_types = [\"cotton\", \"wool\", \"silk\", \"polyester\"]\n",
    "\n",
    "# Accessing list elements\n",
    "fabric_types[0]  # \"cotton\"\n",
    "\n",
    "# Adding a new fabric type\n",
    "fabric_types.append(\"linen\")\n",
    "\n",
    "# Removing a fabric type\n",
    "fabric_types.remove(\"wool\")\n",
    "\n",
    "# Slicing the list (first two elements)\n",
    "fabric_types[2:]"
   ]
  },
  {
   "cell_type": "code",
   "execution_count": 81,
   "id": "c4287f3a-4ff8-43d4-9593-42af40c12654",
   "metadata": {},
   "outputs": [
    {
     "data": {
      "text/plain": [
       "['__add__',\n",
       " '__class__',\n",
       " '__class_getitem__',\n",
       " '__contains__',\n",
       " '__delattr__',\n",
       " '__delitem__',\n",
       " '__dir__',\n",
       " '__doc__',\n",
       " '__eq__',\n",
       " '__format__',\n",
       " '__ge__',\n",
       " '__getattribute__',\n",
       " '__getitem__',\n",
       " '__getstate__',\n",
       " '__gt__',\n",
       " '__hash__',\n",
       " '__iadd__',\n",
       " '__imul__',\n",
       " '__init__',\n",
       " '__init_subclass__',\n",
       " '__iter__',\n",
       " '__le__',\n",
       " '__len__',\n",
       " '__lt__',\n",
       " '__mul__',\n",
       " '__ne__',\n",
       " '__new__',\n",
       " '__reduce__',\n",
       " '__reduce_ex__',\n",
       " '__repr__',\n",
       " '__reversed__',\n",
       " '__rmul__',\n",
       " '__setattr__',\n",
       " '__setitem__',\n",
       " '__sizeof__',\n",
       " '__str__',\n",
       " '__subclasshook__',\n",
       " 'append',\n",
       " 'clear',\n",
       " 'copy',\n",
       " 'count',\n",
       " 'extend',\n",
       " 'index',\n",
       " 'insert',\n",
       " 'pop',\n",
       " 'remove',\n",
       " 'reverse',\n",
       " 'sort']"
      ]
     },
     "execution_count": 81,
     "metadata": {},
     "output_type": "execute_result"
    }
   ],
   "source": [
    "dir(fabric_types)"
   ]
  },
  {
   "cell_type": "markdown",
   "id": "c79b86ce-24e0-4cf4-9ed5-c1d2e8e0fd77",
   "metadata": {},
   "source": [
    "Dictionary\n",
    "\n",
    "\t•\tKey-Value pairs: Each element in a dictionary is a pair, consisting of a key and a corresponding value.\n",
    "\t•\tUnordered: Keys are not stored in any particular order (though in Python 3.7+, dictionaries preserve insertion order).\n",
    "\t•\tMutable: You can add, remove, and modify key-value pairs.\n",
    "\t•\tUnique keys: Keys must be unique, while values can be duplicated.."
   ]
  },
  {
   "cell_type": "code",
   "execution_count": 77,
   "id": "fb2780e5-8cbd-436a-9ce9-706178b84318",
   "metadata": {},
   "outputs": [],
   "source": [
    "fabric_prices = {\n",
    "    \"cotton\": 12.5,\n",
    "    \"wool\": 20.0,\n",
    "    \"silk\": 50.0,\n",
    "    \"polyester\": 8.0\n",
    "}\n",
    "\n",
    "# Accessing a price by fabric type\n",
    "fabric_prices[\"silk\"]  # 50.0\n",
    "\n",
    "# Adding a new fabric type and price\n",
    "fabric_prices[\"linen\"] = 15.0\n",
    "\n",
    "# Updating the price of an existing fabric\n",
    "fabric_prices[\"cotton\"] = 13.0"
   ]
  },
  {
   "cell_type": "code",
   "execution_count": 78,
   "id": "bc18ebe5-ee8d-47da-b31f-c0fdf705d62f",
   "metadata": {},
   "outputs": [
    {
     "data": {
      "text/plain": [
       "{'cotton': 13.0, 'wool': 20.0, 'silk': 50.0, 'polyester': 8.0, 'linen': 15.0}"
      ]
     },
     "execution_count": 78,
     "metadata": {},
     "output_type": "execute_result"
    }
   ],
   "source": [
    "fabric_prices"
   ]
  },
  {
   "cell_type": "code",
   "execution_count": 79,
   "id": "2d358d48-2658-4420-8651-cac45f3377ff",
   "metadata": {},
   "outputs": [
    {
     "data": {
      "text/plain": [
       "dict_keys(['cotton', 'wool', 'silk', 'polyester', 'linen'])"
      ]
     },
     "execution_count": 79,
     "metadata": {},
     "output_type": "execute_result"
    }
   ],
   "source": [
    "fabric_prices.keys()"
   ]
  },
  {
   "cell_type": "code",
   "execution_count": 80,
   "id": "be6886a8-bdf3-4f1e-830d-7f72889449d9",
   "metadata": {
    "collapsed": true,
    "jupyter": {
     "outputs_hidden": true
    }
   },
   "outputs": [
    {
     "data": {
      "text/plain": [
       "['__class__',\n",
       " '__class_getitem__',\n",
       " '__contains__',\n",
       " '__delattr__',\n",
       " '__delitem__',\n",
       " '__dir__',\n",
       " '__doc__',\n",
       " '__eq__',\n",
       " '__format__',\n",
       " '__ge__',\n",
       " '__getattribute__',\n",
       " '__getitem__',\n",
       " '__getstate__',\n",
       " '__gt__',\n",
       " '__hash__',\n",
       " '__init__',\n",
       " '__init_subclass__',\n",
       " '__ior__',\n",
       " '__iter__',\n",
       " '__le__',\n",
       " '__len__',\n",
       " '__lt__',\n",
       " '__ne__',\n",
       " '__new__',\n",
       " '__or__',\n",
       " '__reduce__',\n",
       " '__reduce_ex__',\n",
       " '__repr__',\n",
       " '__reversed__',\n",
       " '__ror__',\n",
       " '__setattr__',\n",
       " '__setitem__',\n",
       " '__sizeof__',\n",
       " '__str__',\n",
       " '__subclasshook__',\n",
       " 'clear',\n",
       " 'copy',\n",
       " 'fromkeys',\n",
       " 'get',\n",
       " 'items',\n",
       " 'keys',\n",
       " 'pop',\n",
       " 'popitem',\n",
       " 'setdefault',\n",
       " 'update',\n",
       " 'values']"
      ]
     },
     "execution_count": 80,
     "metadata": {},
     "output_type": "execute_result"
    }
   ],
   "source": [
    "dir(fabric_prices)"
   ]
  },
  {
   "cell_type": "markdown",
   "id": "890a2f59-ee8a-44f3-a56d-1c6217d12533",
   "metadata": {},
   "source": [
    "## 7. Loops and iterations"
   ]
  },
  {
   "cell_type": "code",
   "execution_count": 93,
   "id": "26fe463a-29d1-44e1-8f54-bc2af76cb61d",
   "metadata": {},
   "outputs": [
    {
     "name": "stdout",
     "output_type": "stream",
     "text": [
      "cotton\n",
      "wool\n",
      "silk\n",
      "polyester\n"
     ]
    }
   ],
   "source": [
    "fabric_types = [\"cotton\", \"wool\", \"silk\", \"polyester\"]\n",
    "\n",
    "for fabric in fabric_types:\n",
    "    print(fabric)"
   ]
  },
  {
   "cell_type": "code",
   "execution_count": 94,
   "id": "3182ae92-cff7-4399-a343-8a8fdece567f",
   "metadata": {},
   "outputs": [],
   "source": [
    "for i in range(1, 6):\n",
    "    i"
   ]
  },
  {
   "cell_type": "code",
   "execution_count": 96,
   "id": "78268a4c-a5a3-4c8b-b395-b8ab43f887b9",
   "metadata": {},
   "outputs": [
    {
     "name": "stdout",
     "output_type": "stream",
     "text": [
      "0 cotton\n",
      "1 wool\n",
      "2 silk\n",
      "3 polyester\n"
     ]
    }
   ],
   "source": [
    "for index, fabric in enumerate(fabric_types):\n",
    "    print(index, fabric)"
   ]
  },
  {
   "cell_type": "code",
   "execution_count": 98,
   "id": "0d48e292-7df7-4106-9993-d07439f03ce7",
   "metadata": {},
   "outputs": [
    {
     "name": "stdout",
     "output_type": "stream",
     "text": [
      "cotton 12.5\n",
      "wool 20.0\n",
      "silk 50.0\n"
     ]
    }
   ],
   "source": [
    "# Example: For loop to iterate over a dictionary of fabric prices\n",
    "fabric_prices = {\"cotton\": 12.5, \"wool\": 20.0, \"silk\": 50.0}\n",
    "\n",
    "for fabric, price in fabric_prices.items():\n",
    "    print(fabric, price)"
   ]
  },
  {
   "cell_type": "code",
   "execution_count": 99,
   "id": "6f6bdf4c-08b5-4f33-ae72-2200b5641383",
   "metadata": {},
   "outputs": [
    {
     "data": {
      "text/plain": [
       "dict_items([('cotton', 12.5), ('wool', 20.0), ('silk', 50.0)])"
      ]
     },
     "execution_count": 99,
     "metadata": {},
     "output_type": "execute_result"
    }
   ],
   "source": [
    "fabric_prices.items()"
   ]
  },
  {
   "cell_type": "code",
   "execution_count": 103,
   "id": "ae206a32-e4d2-4ece-8705-64ae6fad3f2a",
   "metadata": {},
   "outputs": [
    {
     "name": "stdout",
     "output_type": "stream",
     "text": [
      "cotton red\n",
      "cotton blue\n",
      "cotton brown\n",
      "silk red\n",
      "silk blue\n",
      "silk brown\n",
      "wool red\n",
      "wool blue\n",
      "wool brown\n"
     ]
    }
   ],
   "source": [
    "fabric_types = [\"cotton\", \"silk\", \"wool\"]\n",
    "colors = [\"red\", \"blue\", \"brown\"]\n",
    "\n",
    "for fabric in fabric_types:\n",
    "    for color in colors:\n",
    "        print(fabric, color)"
   ]
  }
 ],
 "metadata": {
  "kernelspec": {
   "display_name": "myfirstcode",
   "language": "python",
   "name": "my_first_code"
  },
  "language_info": {
   "codemirror_mode": {
    "name": "ipython",
    "version": 3
   },
   "file_extension": ".py",
   "mimetype": "text/x-python",
   "name": "python",
   "nbconvert_exporter": "python",
   "pygments_lexer": "ipython3",
   "version": "3.11.10"
  }
 },
 "nbformat": 4,
 "nbformat_minor": 5
}
