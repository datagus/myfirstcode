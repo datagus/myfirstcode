{
 "cells": [
  {
   "cell_type": "markdown",
   "id": "48710343-6fab-47a3-8dbd-36aaf48db06d",
   "metadata": {},
   "source": [
    "# GLMs_lecture"
   ]
  },
  {
   "cell_type": "code",
   "execution_count": 125,
   "id": "96e8257b-6862-4358-9525-d5af30c316c8",
   "metadata": {},
   "outputs": [],
   "source": [
    "import pandas as pd\n",
    "import numpy as np\n",
    "import seaborn as sns\n",
    "import matplotlib.pyplot as plt\n",
    "from matplotlib import pyplot as plt\n",
    "import scipy.stats as stats\n",
    "import statsmodels.api as sm\n",
    "import statsmodels.formula.api as smf"
   ]
  },
  {
   "cell_type": "markdown",
   "id": "8cc1dc93-63ae-4e5c-83d2-36cca36c3204",
   "metadata": {},
   "source": [
    "### Daily total of bike counts conducted on the Brooklyn Bridge from 01 April 2017 to 31 October 2017. Source: NYC Open Data: Bicycle Counts for East River Bridges"
   ]
  },
  {
   "cell_type": "code",
   "execution_count": 106,
   "id": "a36ad0be-c367-4cbc-a52d-720b2d112448",
   "metadata": {},
   "outputs": [],
   "source": [
    "df = pd.read_csv(\n",
    "    'data/nyc_bb_bicyclist_counts.csv',\n",
    "    header=0, \n",
    "    parse_dates=[0], \n",
    "    index_col=[0],\n",
    "    date_format=\"%d-%b-%y\")"
   ]
  },
  {
   "cell_type": "code",
   "execution_count": 126,
   "id": "66bba09f-3071-44b4-8d3d-eafb2c4beaee",
   "metadata": {},
   "outputs": [],
   "source": [
    "ds = df.index.to_series()\n",
    "df['MONTH'] = ds.dt.month\n",
    "df['DAY_OF_WEEK'] = ds.dt.dayofweek\n",
    "df['DAY'] = ds.dt.day"
   ]
  },
  {
   "cell_type": "markdown",
   "id": "23bd28c2-d54e-4de9-9ed1-a9adc9f6edf5",
   "metadata": {},
   "source": [
    "## Modelling"
   ]
  },
  {
   "cell_type": "code",
   "execution_count": null,
   "id": "b987549f-6438-4e14-9194-90b298c110b3",
   "metadata": {},
   "outputs": [],
   "source": []
  }
 ],
 "metadata": {
  "kernelspec": {
   "display_name": "myfirstcode",
   "language": "python",
   "name": "my_first_code"
  },
  "language_info": {
   "codemirror_mode": {
    "name": "ipython",
    "version": 3
   },
   "file_extension": ".py",
   "mimetype": "text/x-python",
   "name": "python",
   "nbconvert_exporter": "python",
   "pygments_lexer": "ipython3",
   "version": "3.11.10"
  }
 },
 "nbformat": 4,
 "nbformat_minor": 5
}
