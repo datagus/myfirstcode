{
 "cells": [
  {
   "cell_type": "markdown",
   "id": "d0645e7f-927f-48e4-9b05-635128ec9a49",
   "metadata": {},
   "source": [
    "### String example"
   ]
  },
  {
   "cell_type": "code",
   "execution_count": 2,
   "id": "31871828-7fe5-40b2-897d-f63b4cc9f213",
   "metadata": {},
   "outputs": [],
   "source": [
    "text = \"One of the main issues that degrowth in general is concerned with is inequality and its reduction (Hickel, 2021). Hence, distribution and the question of redistribution of wealth, income, and resources have continued to resurface in the degrowth literature (Cosme et al., 2017; Martinez-Alier, 2009; Spangenberg, 2010; Xue et al., 2012). Not so prominently discussed within degrowth, but no less relevant, is the question of money and its role in economic growth itself (see Fig. 1 in Kallis et al., 2018; Strunz et al., 2017). In particular, if money and the monetary system as such indeed fueled the need for economic growth, i.e., if a ‘monetary growth imperative’ existed, as some economists argue (e.g., Binswanger, 2013), analyses and proposals on how to design a monetary system better in line with the degrowth agenda would be much needed. Hence, given the immediate relevance of the monetary growth imperative for degrowth, one would expect that degrowth scholarship would feature the issue of money rather prominently. The same is true for the development of concrete policies addressing distributional issues or monetary system design. However, a lack of concrete policy proposals from the degrowth literature has been lamented repeatedly over the years in different contexts (Berg and Hukkinen, 2011; Bonaiuti, 2018; Demaria et al., 2013; Joutsenvirta, 2016; van den Bergh, 2011), and previous reviews of the degrowth literature have confirmed this on a general level to some extent (Cosme et al., 2017; Fitzpatrick et al., 2022; Sekulova et al., 2013; Videira et al., 2014). In particular, a wide variety of different kinds of goals, objectives, and instruments proposed in degrowth has been attested, as well as a ‘commonplace’ lack of precision in proposals (Fitzpatrick et al., 2022, p. 8). One possible explanation for this lack can be found in the relationship between degrowth and the state. Given the undertheorized role of the state as a central player in the degrowth transition (Demaria et al., 2019; D’Alisa and Kallis, 2020), degrowth faces “a tension between viewing the state as incapable of initiating transformational change and making a political appeal to it to do precisely this via targeted eco-social policies,” leaving “a lack in research on the strategic implications arising from conceptualizations of the state and state-civil society relations within degrowth/postgrowth approaches” (Koch, 2020 p. 1).\""
   ]
  },
  {
   "cell_type": "markdown",
   "id": "02498eb7-ffbd-4bf7-8551-c9cd1d0859b5",
   "metadata": {},
   "source": [
    "### Removing characters non a-z"
   ]
  },
  {
   "cell_type": "code",
   "execution_count": 3,
   "id": "4ad7a919-c8c5-469c-af44-10e6714f0cec",
   "metadata": {},
   "outputs": [],
   "source": [
    "#this list was provided by chatgpt\n",
    "non_a_z_characters = ['\\t', '\\n', '\\r',  # Whitespace characters (space, tab, newline, carriage return)\n",
    "    '.', ',', ';', ':', '!', '?',  # Punctuation marks\n",
    "    \"'\", '\"', '`', '”', # Quotation marks\n",
    "    '(', ')', '[', ']', '{', '}',  # Parentheses and brackets\n",
    "    '-', '_', '=', '+', '/', '\\\\', '|',  # Hyphen, underscore, slashes, pipe\n",
    "    '@', '#', '$', '%', '^', '&', '*', '~',  # Special symbols\n",
    "    '<', '>', '°', '©', '®', '€', '£', '¥', '¢',  # Mathematical and currency symbols\n",
    "    '§', '¶', '→', '←', '↑', '↓', '∞', '≠', '≈',  # Miscellaneous symbols\n",
    "]"
   ]
  },
  {
   "cell_type": "code",
   "execution_count": 4,
   "id": "42cbdb4e-318b-4a98-9d93-ccabe386bccf",
   "metadata": {},
   "outputs": [],
   "source": [
    "for character in non_a_z_characters:\n",
    "     text = text.replace(character, \" \")\n",
    "text = text.replace(\"  \", \" \")"
   ]
  },
  {
   "cell_type": "code",
   "execution_count": 5,
   "id": "5a3b121b-83b3-4d16-b5b8-1ae14afeafd5",
   "metadata": {},
   "outputs": [
    {
     "data": {
      "text/plain": [
       "'One of the main issues that degrowth in general is concerned with is inequality and its reduction Hickel 2021  Hence distribution and the question of redistribution of wealth income and resources have continued to resurface in the degrowth literature Cosme et al  2017 Martinez Alier 2009 Spangenberg 2010 Xue et al  2012  Not so prominently discussed within degrowth but no less relevant is the question of money and its role in economic growth itself see Fig 1 in Kallis et al  2018 Strunz et al  2017  In particular if money and the monetary system as such indeed fueled the need for economic growth i e  if a ‘monetary growth imperative’ existed as some economists argue e g  Binswanger 2013  analyses and proposals on how to design a monetary system better in line with the degrowth agenda would be much needed Hence given the immediate relevance of the monetary growth imperative for degrowth one would expect that degrowth scholarship would feature the issue of money rather prominently The same is true for the development of concrete policies addressing distributional issues or monetary system design However a lack of concrete policy proposals from the degrowth literature has been lamented repeatedly over the years in different contexts Berg and Hukkinen 2011 Bonaiuti 2018 Demaria et al  2013 Joutsenvirta 2016 van den Bergh 2011  and previous reviews of the degrowth literature have confirmed this on a general level to some extent Cosme et al  2017 Fitzpatrick et al  2022 Sekulova et al  2013 Videira et al  2014  In particular a wide variety of different kinds of goals objectives and instruments proposed in degrowth has been attested as well as a ‘commonplace’ lack of precision in proposals Fitzpatrick et al  2022 p 8  One possible explanation for this lack can be found in the relationship between degrowth and the state Given the undertheorized role of the state as a central player in the degrowth transition Demaria et al  2019 D’Alisa and Kallis 2020  degrowth faces “a tension between viewing the state as incapable of initiating transformational change and making a political appeal to it to do precisely this via targeted eco social policies  leaving “a lack in research on the strategic implications arising from conceptualizations of the state and state civil society relations within degrowth postgrowth approaches  Koch 2020 p 1 '"
      ]
     },
     "execution_count": 5,
     "metadata": {},
     "output_type": "execute_result"
    }
   ],
   "source": [
    "#checking text\n",
    "text"
   ]
  },
  {
   "cell_type": "markdown",
   "id": "56fb23fc-e6a6-4b21-8a67-b11a4eead1c8",
   "metadata": {},
   "source": [
    "### Splitting the string"
   ]
  },
  {
   "cell_type": "code",
   "execution_count": 6,
   "id": "3d971631-e37f-4321-be68-19fff9c40fad",
   "metadata": {},
   "outputs": [],
   "source": [
    "words = text.lower().split(\" \")"
   ]
  },
  {
   "cell_type": "markdown",
   "id": "3355ffb7-532d-406a-89d4-c927f88c9658",
   "metadata": {},
   "source": [
    "### Removing empty spaces"
   ]
  },
  {
   "cell_type": "code",
   "execution_count": 7,
   "id": "42df49bc-2a89-4372-bd0b-e268f9cc7343",
   "metadata": {},
   "outputs": [],
   "source": [
    "for i, word in enumerate(words[:]):\n",
    "    if word == \"\":\n",
    "        words.remove(word)"
   ]
  },
  {
   "cell_type": "markdown",
   "id": "372341cf-62ad-42c6-9883-1fe0186d4a43",
   "metadata": {},
   "source": [
    "### Removing digits"
   ]
  },
  {
   "cell_type": "code",
   "execution_count": 8,
   "id": "707ada55-65f8-4395-80af-e0cd3397def5",
   "metadata": {},
   "outputs": [],
   "source": [
    "digits = tuple(['0', '1', '2', '3', '4', '5', '6', '7', '8', '9'])\n",
    "for word in words[:]:\n",
    "    if word.startswith(digits):\n",
    "        words.remove(word)"
   ]
  },
  {
   "cell_type": "code",
   "execution_count": 9,
   "id": "383faa37-5387-4522-a630-ebae3c787f35",
   "metadata": {},
   "outputs": [],
   "source": [
    "for word in words[:]:\n",
    "    if len(word) < 2 and word != \"a\" and word != \"i\": #in case there are characters such as \"g\"\n",
    "        words.remove(word)"
   ]
  },
  {
   "cell_type": "markdown",
   "id": "b8ecc19c-799c-453f-bdd2-d513320cb0b8",
   "metadata": {},
   "source": [
    "### Creating frequency dictionary"
   ]
  },
  {
   "cell_type": "code",
   "execution_count": 10,
   "id": "581b09d6-8073-4ade-9df8-3b339928fcb3",
   "metadata": {},
   "outputs": [],
   "source": [
    "frequency = {}\n",
    "# This is an example with only five words\n",
    "for word in words[:5]:\n",
    "    if word in frequency:\n",
    "        frequency[word] +=1\n",
    "    else:\n",
    "        frequency[word] = 1"
   ]
  },
  {
   "cell_type": "markdown",
   "id": "9ba7414b-e94b-444f-9f23-d1970e8e06db",
   "metadata": {},
   "source": [
    "### Creating types dictionary"
   ]
  },
  {
   "cell_type": "code",
   "execution_count": null,
   "id": "3771ebfb-e7ed-488e-a8ac-b29d81a46a2f",
   "metadata": {},
   "outputs": [],
   "source": [
    "types = {}\n",
    "for key, value in frequency.items():\n",
    "    x = input(f\"What is this '{key}'? \")\n",
    "    types[key] = x"
   ]
  },
  {
   "cell_type": "markdown",
   "id": "02e3cb1f-a5ab-4bfb-b486-c381a74b3cda",
   "metadata": {},
   "source": [
    "### Creating lenghts dictionary"
   ]
  },
  {
   "cell_type": "code",
   "execution_count": 13,
   "id": "6b5c1816-5fac-45e4-95d8-02fea3ffe83c",
   "metadata": {},
   "outputs": [],
   "source": [
    "lengths = {}\n",
    "for key, value in frequency.items():\n",
    "    lengths[key] = len(key)"
   ]
  },
  {
   "cell_type": "markdown",
   "id": "4b5abdbe-e9e7-401b-b4b0-7a4d893466e6",
   "metadata": {},
   "source": [
    "### Merging dictionaries"
   ]
  },
  {
   "cell_type": "code",
   "execution_count": 14,
   "id": "20b03d3f-eef5-40d5-a567-38584b7d2120",
   "metadata": {},
   "outputs": [],
   "source": [
    "words_dictionary = {}\n",
    "\n",
    "for word in types:\n",
    "   words_dictionary[word] = {\n",
    "            \"word_type\": types[word],\n",
    "            \"frequency\": frequency[word],\n",
    "            \"lenght\": lengths[word]}"
   ]
  },
  {
   "cell_type": "code",
   "execution_count": 15,
   "id": "b3960e64-c66f-4b6e-9cc4-9cc5337f412c",
   "metadata": {},
   "outputs": [
    {
     "data": {
      "text/plain": [
       "{'of': {'word_type': 'preposition', 'frequency': 1, 'lenght': 2},\n",
       " 'the': {'word_type': 'article', 'frequency': 1, 'lenght': 3},\n",
       " 'main': {'word_type': 'adjective', 'frequency': 1, 'lenght': 4},\n",
       " 'issues': {'word_type': 'noun', 'frequency': 1, 'lenght': 6}}"
      ]
     },
     "execution_count": 15,
     "metadata": {},
     "output_type": "execute_result"
    }
   ],
   "source": [
    "words_dictionary"
   ]
  }
 ],
 "metadata": {
  "kernelspec": {
   "display_name": "myfirstcode",
   "language": "python",
   "name": "my_first_code"
  },
  "language_info": {
   "codemirror_mode": {
    "name": "ipython",
    "version": 3
   },
   "file_extension": ".py",
   "mimetype": "text/x-python",
   "name": "python",
   "nbconvert_exporter": "python",
   "pygments_lexer": "ipython3",
   "version": "3.11.10"
  }
 },
 "nbformat": 4,
 "nbformat_minor": 5
}
