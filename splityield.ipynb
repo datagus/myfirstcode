{
 "cells": [
  {
   "cell_type": "markdown",
   "id": "831b1ad6-3bda-4798-a06b-13ea54161381",
   "metadata": {},
   "source": [
    "# Splityield example"
   ]
  },
  {
   "cell_type": "code",
   "execution_count": 52,
   "id": "d645b09f-fd9c-4e4d-b614-bf0adcfc3189",
   "metadata": {},
   "outputs": [],
   "source": [
    "#!pip install rpy2"
   ]
  },
  {
   "cell_type": "code",
   "execution_count": 53,
   "id": "a69d5f36-ddb5-40ea-9f8a-595212dc0058",
   "metadata": {},
   "outputs": [],
   "source": [
    "import rpy2.robjects as ro\n",
    "from rpy2.robjects.packages import importr\n",
    "from rpy2.robjects import r, pandas2ri\n",
    "\n",
    "# Activate automatic conversion between pandas and R data frames\n",
    "pandas2ri.activate()"
   ]
  },
  {
   "cell_type": "markdown",
   "id": "d81dd89a-a52e-40a2-95e5-c8065867d848",
   "metadata": {},
   "source": [
    "## Importing data with pandas"
   ]
  },
  {
   "cell_type": "code",
   "execution_count": 120,
   "id": "406e4b5c-9704-4ff8-a338-8cc3bd673473",
   "metadata": {},
   "outputs": [
    {
     "data": {
      "text/html": [
       "<div>\n",
       "<style scoped>\n",
       "    .dataframe tbody tr th:only-of-type {\n",
       "        vertical-align: middle;\n",
       "    }\n",
       "\n",
       "    .dataframe tbody tr th {\n",
       "        vertical-align: top;\n",
       "    }\n",
       "\n",
       "    .dataframe thead th {\n",
       "        text-align: right;\n",
       "    }\n",
       "</style>\n",
       "<table border=\"1\" class=\"dataframe\">\n",
       "  <thead>\n",
       "    <tr style=\"text-align: right;\">\n",
       "      <th></th>\n",
       "      <th>yield</th>\n",
       "      <th>block</th>\n",
       "      <th>irrigation</th>\n",
       "      <th>density</th>\n",
       "      <th>fertilizer</th>\n",
       "    </tr>\n",
       "  </thead>\n",
       "  <tbody>\n",
       "    <tr>\n",
       "      <th>0</th>\n",
       "      <td>90</td>\n",
       "      <td>A</td>\n",
       "      <td>control</td>\n",
       "      <td>low</td>\n",
       "      <td>N</td>\n",
       "    </tr>\n",
       "    <tr>\n",
       "      <th>1</th>\n",
       "      <td>95</td>\n",
       "      <td>A</td>\n",
       "      <td>control</td>\n",
       "      <td>low</td>\n",
       "      <td>P</td>\n",
       "    </tr>\n",
       "    <tr>\n",
       "      <th>2</th>\n",
       "      <td>107</td>\n",
       "      <td>A</td>\n",
       "      <td>control</td>\n",
       "      <td>low</td>\n",
       "      <td>NP</td>\n",
       "    </tr>\n",
       "    <tr>\n",
       "      <th>3</th>\n",
       "      <td>92</td>\n",
       "      <td>A</td>\n",
       "      <td>control</td>\n",
       "      <td>medium</td>\n",
       "      <td>N</td>\n",
       "    </tr>\n",
       "    <tr>\n",
       "      <th>4</th>\n",
       "      <td>89</td>\n",
       "      <td>A</td>\n",
       "      <td>control</td>\n",
       "      <td>medium</td>\n",
       "      <td>P</td>\n",
       "    </tr>\n",
       "    <tr>\n",
       "      <th>...</th>\n",
       "      <td>...</td>\n",
       "      <td>...</td>\n",
       "      <td>...</td>\n",
       "      <td>...</td>\n",
       "      <td>...</td>\n",
       "    </tr>\n",
       "    <tr>\n",
       "      <th>67</th>\n",
       "      <td>131</td>\n",
       "      <td>D</td>\n",
       "      <td>irrigated</td>\n",
       "      <td>medium</td>\n",
       "      <td>P</td>\n",
       "    </tr>\n",
       "    <tr>\n",
       "      <th>68</th>\n",
       "      <td>126</td>\n",
       "      <td>D</td>\n",
       "      <td>irrigated</td>\n",
       "      <td>medium</td>\n",
       "      <td>NP</td>\n",
       "    </tr>\n",
       "    <tr>\n",
       "      <th>69</th>\n",
       "      <td>116</td>\n",
       "      <td>D</td>\n",
       "      <td>irrigated</td>\n",
       "      <td>high</td>\n",
       "      <td>N</td>\n",
       "    </tr>\n",
       "    <tr>\n",
       "      <th>70</th>\n",
       "      <td>136</td>\n",
       "      <td>D</td>\n",
       "      <td>irrigated</td>\n",
       "      <td>high</td>\n",
       "      <td>P</td>\n",
       "    </tr>\n",
       "    <tr>\n",
       "      <th>71</th>\n",
       "      <td>133</td>\n",
       "      <td>D</td>\n",
       "      <td>irrigated</td>\n",
       "      <td>high</td>\n",
       "      <td>NP</td>\n",
       "    </tr>\n",
       "  </tbody>\n",
       "</table>\n",
       "<p>72 rows × 5 columns</p>\n",
       "</div>"
      ],
      "text/plain": [
       "    yield block irrigation density fertilizer\n",
       "0      90     A    control     low          N\n",
       "1      95     A    control     low          P\n",
       "2     107     A    control     low         NP\n",
       "3      92     A    control  medium          N\n",
       "4      89     A    control  medium          P\n",
       "..    ...   ...        ...     ...        ...\n",
       "67    131     D  irrigated  medium          P\n",
       "68    126     D  irrigated  medium         NP\n",
       "69    116     D  irrigated    high          N\n",
       "70    136     D  irrigated    high          P\n",
       "71    133     D  irrigated    high         NP\n",
       "\n",
       "[72 rows x 5 columns]"
      ]
     },
     "execution_count": 120,
     "metadata": {},
     "output_type": "execute_result"
    }
   ],
   "source": [
    "import pandas as pd\n",
    "import matplotlib.pyplot as plt\n",
    "import matplotlib.patches as patches\n",
    "import numpy as np\n",
    "\n",
    "df = pd.read_csv('data/splityield.txt', sep=\"\\\\t\", engine=\"python\")\n",
    "\n",
    "# Display the first few rows\n",
    "df"
   ]
  },
  {
   "cell_type": "code",
   "execution_count": 55,
   "id": "6347ed2e-576c-43e1-8f96-f0e348095d75",
   "metadata": {
    "collapsed": true,
    "jupyter": {
     "outputs_hidden": true
    }
   },
   "outputs": [
    {
     "data": {
      "text/plain": [
       "<Axes: >"
      ]
     },
     "execution_count": 55,
     "metadata": {},
     "output_type": "execute_result"
    },
    {
     "data": {
      "image/png": "[encoded data removed]",
      "text/plain": [
       "<Figure size 640x480 with 1 Axes>"
      ]
     },
     "metadata": {},
     "output_type": "display_data"
    }
   ],
   "source": [
    "# inspecting yield\n",
    "df[\"yield\"].hist(bins=10, color=\"green\", edgecolor=\"black\", grid=False)"
   ]
  },
  {
   "cell_type": "markdown",
   "id": "fd32912e-11c1-4b24-8cf2-5b9e7d015d53",
   "metadata": {},
   "source": [
    "## importing specific R packages"
   ]
  },
  {
   "cell_type": "code",
   "execution_count": 33,
   "id": "a37f0a35-fc80-4aa3-a51e-334f13d83cac",
   "metadata": {},
   "outputs": [],
   "source": [
    "nlme = importr('nlme')\n",
    "multcomp = importr('multcomp')"
   ]
  },
  {
   "cell_type": "code",
   "execution_count": 31,
   "id": "22bfdd51-6dee-4d56-8d23-19473ee7c411",
   "metadata": {},
   "outputs": [],
   "source": [
    "#Converting Python dataframe to R dataframe\n",
    "r_df = pandas2ri.py2rpy(df)"
   ]
  },
  {
   "cell_type": "code",
   "execution_count": 57,
   "id": "154d58a0-6c7d-458d-a6cd-b1997450474b",
   "metadata": {},
   "outputs": [
    {
     "name": "stdout",
     "output_type": "stream",
     "text": [
      " [1]  90  95 107  92  89  92  81  92  93  80  87 100 121 110 119  78  98 122  83\n",
      "[20]  80  95  98  98 106  74  81  74 102 109 105  99  94 123 136 133 132  85  88\n",
      "[39]  88 112 104  91  82  78  94  60 104 114  90 118 113 119 122 136  86  78  89\n",
      "[58]  79  86  87  85  89  83  73 114 114 109 131 126 116 136 133\n",
      "\n"
     ]
    }
   ],
   "source": [
    "# printing column yield\n",
    "print(r_df.rx2('yield'))"
   ]
  },
  {
   "cell_type": "code",
   "execution_count": 58,
   "id": "9f3ef628-8cda-4872-a394-f7be2a8172db",
   "metadata": {
    "collapsed": true,
    "jupyter": {
     "outputs_hidden": true
    }
   },
   "outputs": [
    {
     "name": "stdout",
     "output_type": "stream",
     "text": [
      "   yield block irrigation density fertilizer\n",
      "0     90     A    control     low          N\n",
      "1     95     A    control     low          P\n",
      "2    107     A    control     low         NP\n",
      "3     92     A    control  medium          N\n",
      "4     89     A    control  medium          P\n",
      "5     92     A    control  medium         NP\n",
      "6     81     A    control    high          N\n",
      "7     92     A    control    high          P\n",
      "8     93     A    control    high         NP\n",
      "9     80     A  irrigated     low          N\n",
      "10    87     A  irrigated     low          P\n",
      "11   100     A  irrigated     low         NP\n",
      "12   121     A  irrigated  medium          N\n",
      "13   110     A  irrigated  medium          P\n",
      "14   119     A  irrigated  medium         NP\n",
      "15    78     A  irrigated    high          N\n",
      "16    98     A  irrigated    high          P\n",
      "17   122     A  irrigated    high         NP\n",
      "18    83     B    control     low          N\n",
      "19    80     B    control     low          P\n",
      "20    95     B    control     low         NP\n",
      "21    98     B    control  medium          N\n",
      "22    98     B    control  medium          P\n",
      "23   106     B    control  medium         NP\n",
      "24    74     B    control    high          N\n",
      "25    81     B    control    high          P\n",
      "26    74     B    control    high         NP\n",
      "27   102     B  irrigated     low          N\n",
      "28   109     B  irrigated     low          P\n",
      "29   105     B  irrigated     low         NP\n",
      "30    99     B  irrigated  medium          N\n",
      "31    94     B  irrigated  medium          P\n",
      "32   123     B  irrigated  medium         NP\n",
      "33   136     B  irrigated    high          N\n",
      "34   133     B  irrigated    high          P\n",
      "35   132     B  irrigated    high         NP\n",
      "36    85     C    control     low          N\n",
      "37    88     C    control     low          P\n",
      "38    88     C    control     low         NP\n",
      "39   112     C    control  medium          N\n",
      "40   104     C    control  medium          P\n",
      "41    91     C    control  medium         NP\n",
      "42    82     C    control    high          N\n",
      "43    78     C    control    high          P\n",
      "44    94     C    control    high         NP\n",
      "45    60     C  irrigated     low          N\n",
      "46   104     C  irrigated     low          P\n",
      "47   114     C  irrigated     low         NP\n",
      "48    90     C  irrigated  medium          N\n",
      "49   118     C  irrigated  medium          P\n",
      "50   113     C  irrigated  medium         NP\n",
      "51   119     C  irrigated    high          N\n",
      "52   122     C  irrigated    high          P\n",
      "53   136     C  irrigated    high         NP\n",
      "54    86     D    control     low          N\n",
      "55    78     D    control     low          P\n",
      "56    89     D    control     low         NP\n",
      "57    79     D    control  medium          N\n",
      "58    86     D    control  medium          P\n",
      "59    87     D    control  medium         NP\n",
      "60    85     D    control    high          N\n",
      "61    89     D    control    high          P\n",
      "62    83     D    control    high         NP\n",
      "63    73     D  irrigated     low          N\n",
      "64   114     D  irrigated     low          P\n",
      "65   114     D  irrigated     low         NP\n",
      "66   109     D  irrigated  medium          N\n",
      "67   131     D  irrigated  medium          P\n",
      "68   126     D  irrigated  medium         NP\n",
      "69   116     D  irrigated    high          N\n",
      "70   136     D  irrigated    high          P\n",
      "71   133     D  irrigated    high         NP\n",
      "\n"
     ]
    }
   ],
   "source": [
    "#printing R dataframe\n",
    "print(r_df)"
   ]
  },
  {
   "cell_type": "markdown",
   "id": "7fc94913-207e-4d38-a022-8b53b14bd1ab",
   "metadata": {},
   "source": [
    "## Creating data frame with different models and aic"
   ]
  },
  {
   "cell_type": "code",
   "execution_count": 105,
   "id": "3bbee198-6cb8-478e-a59e-d4639afa07e0",
   "metadata": {},
   "outputs": [],
   "source": [
    "formulas = ['yield ~ irrigation + density + fertilizer',\n",
    "            'yield ~ irrigation*density+fertilizer',\n",
    "            'yield ~ irrigation*density+irrigation*fertilizer',\n",
    "            'yield ~ (irrigation + density + fertilizer)^2', \n",
    "            'yield ~ irrigation * density * fertilizer']\n",
    "aic_df = pd.DataFrame(columns=[[\"model\", \"aic\"]])\n",
    "summaries = []\n",
    "fitted_values = []\n",
    "cftests = []"
   ]
  },
  {
   "cell_type": "code",
   "execution_count": 106,
   "id": "9cdab69e-3fe4-4c8c-ab76-f111b3c18f94",
   "metadata": {},
   "outputs": [],
   "source": [
    "for i in range(len(formulas)):\n",
    "\n",
    "    model = nlme.lme(\n",
    "        fixed=ro.Formula(formulas[i]),\n",
    "        random=ro.Formula('~ 1 | block/irrigation/density'),\n",
    "        data=r_df,\n",
    "    )\n",
    "\n",
    "    summary = ro.r.summary(model)\n",
    "\n",
    "    # Get the model summary\n",
    "    summaries.append(summary)\n",
    "\n",
    "    aic_df.loc[i,\"model\"] = formulas[i].split(' ~ ')[1]\n",
    "    aic_df.loc[i,\"aic\"] = summary.rx2('AIC')\n",
    "\n",
    "    fitted_values.append(ro.r.fitted(model))\n",
    "    cftest_result = multcomp.cftest(model)\n",
    "    cftests.append(r.summary(cftest_result))"
   ]
  },
  {
   "cell_type": "code",
   "execution_count": 107,
   "id": "43106e13-eb40-45fb-b332-4ac49bbed3cf",
   "metadata": {},
   "outputs": [
    {
     "data": {
      "text/html": [
       "<div>\n",
       "<style scoped>\n",
       "    .dataframe tbody tr th:only-of-type {\n",
       "        vertical-align: middle;\n",
       "    }\n",
       "\n",
       "    .dataframe tbody tr th {\n",
       "        vertical-align: top;\n",
       "    }\n",
       "\n",
       "    .dataframe thead tr th {\n",
       "        text-align: left;\n",
       "    }\n",
       "</style>\n",
       "<table border=\"1\" class=\"dataframe\">\n",
       "  <thead>\n",
       "    <tr>\n",
       "      <th></th>\n",
       "      <th>model</th>\n",
       "      <th>aic</th>\n",
       "    </tr>\n",
       "  </thead>\n",
       "  <tbody>\n",
       "    <tr>\n",
       "      <th>0</th>\n",
       "      <td>irrigation + density + fertilizer</td>\n",
       "      <td>554.39669</td>\n",
       "    </tr>\n",
       "    <tr>\n",
       "      <th>1</th>\n",
       "      <td>irrigation*density+fertilizer</td>\n",
       "      <td>536.564904</td>\n",
       "    </tr>\n",
       "    <tr>\n",
       "      <th>2</th>\n",
       "      <td>irrigation*density+irrigation*fertilizer</td>\n",
       "      <td>519.903471</td>\n",
       "    </tr>\n",
       "    <tr>\n",
       "      <th>3</th>\n",
       "      <td>(irrigation + density + fertilizer)^2</td>\n",
       "      <td>503.125576</td>\n",
       "    </tr>\n",
       "    <tr>\n",
       "      <th>4</th>\n",
       "      <td>irrigation * density * fertilizer</td>\n",
       "      <td>481.621202</td>\n",
       "    </tr>\n",
       "  </tbody>\n",
       "</table>\n",
       "</div>"
      ],
      "text/plain": [
       "                                      model         aic\n",
       "0         irrigation + density + fertilizer   554.39669\n",
       "1             irrigation*density+fertilizer  536.564904\n",
       "2  irrigation*density+irrigation*fertilizer  519.903471\n",
       "3     (irrigation + density + fertilizer)^2  503.125576\n",
       "4         irrigation * density * fertilizer  481.621202"
      ]
     },
     "execution_count": 107,
     "metadata": {},
     "output_type": "execute_result"
    }
   ],
   "source": [
    "aic_df"
   ]
  },
  {
   "cell_type": "code",
   "execution_count": 123,
   "id": "4ade6ee4-1f09-4fbb-99d9-7aa983a8547e",
   "metadata": {},
   "outputs": [
    {
     "data": {
      "image/png": "[encoded data removed]",
      "text/plain": [
       "<Figure size 2000x400 with 5 Axes>"
      ]
     },
     "metadata": {},
     "output_type": "display_data"
    }
   ],
   "source": [
    "fig, axes = plt.subplots(1, len(fitted_values), figsize=(20, 4), sharey=True) \n",
    "colors = [\"blue\", \"green\", \"orange\", \"purple\", \"black\", \"gray\", \"yellow\", \"red\"]\n",
    "\n",
    "for i, ax in enumerate(axes):\n",
    "    ax.scatter(fitted_values[i].tolist(), df[\"yield\"], color=colors[i])\n",
    "    ax.set_title(f\"Model {i+1}\")\n",
    "    ax.set_xlabel(\"fitted values\")\n",
    "    if i == 0:  # Add y-axis label only to the first subplot\n",
    "        ax.set_ylabel(\"yield\")\n",
    "\n",
    "plt.tight_layout()\n",
    "plt.show()"
   ]
  },
  {
   "cell_type": "code",
   "execution_count": 114,
   "id": "fc529500-e704-4ee3-8a45-c0c18294ae30",
   "metadata": {
    "collapsed": true,
    "jupyter": {
     "outputs_hidden": true
    }
   },
   "outputs": [
    {
     "name": "stdout",
     "output_type": "stream",
     "text": [
      "Linear mixed-effects model fit by REML\n",
      "  Data: structure(list(yield = c(90L, 95L, 107L, 92L, 89L, 92L, 81L,  92L, 93L, 80L, 87L, 100L, 121L, 110L, 119L, 78L, 98L, 122L, 83L,  80L, 95L, 98L, 98L, 106L, 74L, 81L, 74L, 102L, 109L, 105L, 99L,  94L, 123L, 136L, 133L, 132L, 85L, 88L, 88L, 112L, 104L, 91L,  82L, 78L, 94L, 60L, 104L, 114L, 90L, 118L, 113L, 119L, 122L,  136L, 86L, 78L, 89L, 79L, 86L, 87L, 85L, 89L, 83L, 73L, 114L,  114L, 109L, 131L, 126L, 116L, 136L, 133L), block = c(\"A\", \"A\",  \"A\", \"A\", \"A\", \"A\", \"A\", \"A\", \"A\", \"A\", \"A\", \"A\", \"A\", \"A\", \"A\",  \"A\", \"A\", \"A\", \"B\", \"B\", \"B\", \"B\", \"B\", \"B\", \"B\", \"B\", \"B\", \"B\",  \"B\", \"B\", \"B\", \"B\", \"B\", \"B\", \"B\", \"B\", \"C\", \"C\", \"C\", \"C\", \"C\",  \"C\", \"C\", \"C\", \"C\", \"C\", \"C\", \"C\", \"C\", \"C\", \"C\", \"C\", \"C\", \"C\",  \"D\", \"D\", \"D\", \"D\", \"D\", \"D\", \"D\", \"D\", \"D\", \"D\", \"D\", \"D\", \"D\",  \"D\", \"D\", \"D\", \"D\", \"D\"), irrigation = c(\"control\", \"control\",  \"control\", \"control\", \"control\", \"control\", \"control\", \"control\",  \"control\", \"irrigated\", \"irrigated\", \"irrigated\", \"irrigated\",  \"irrigated\", \"irrigated\", \"irrigated\", \"irrigated\", \"irrigated\",  \"control\", \"control\", \"control\", \"control\", \"control\", \"control\",  \"control\", \"control\", \"control\", \"irrigated\", \"irrigated\", \"irrigated\",  \"irrigated\", \"irrigated\", \"irrigated\", \"irrigated\", \"irrigated\",  \"irrigated\", \"control\", \"control\", \"control\", \"control\", \"control\",  \"control\", \"control\", \"control\", \"control\", \"irrigated\", \"irrigated\",  \"irrigated\", \"irrigated\", \"irrigated\", \"irrigated\", \"irrigated\",  \"irrigated\", \"irrigated\", \"control\", \"control\", \"control\", \"control\",  \"control\", \"control\", \"control\", \"control\", \"control\", \"irrigated\",  \"irrigated\", \"irrigated\", \"irrigated\", \"irrigated\", \"irrigated\",  \"irrigated\", \"irrigated\", \"irrigated\"), density = c(\"low\", \"low\",  \"low\", \"medium\", \"medium\", \"medium\", \"high\", \"high\", \"high\",  \"low\", \"low\", \"low\", \"medium\", \"medium\", \"medium\", \"high\", \"high\",  \"high\", \"low\", \"low\", \"low\", \"medium\", \"medium\", \"medium\", \"high\",  \"high\", \"high\", \"low\", \"low\", \"low\", \"medium\", \"medium\", \"medium\",  \"high\", \"high\", \"high\", \"low\", \"low\", \"low\", \"medium\", \"medium\",  \"medium\", \"high\", \"high\", \"high\", \"low\", \"low\", \"low\", \"medium\",  \"medium\", \"medium\", \"high\", \"high\", \"high\", \"low\", \"low\", \"low\",  \"medium\", \"medium\", \"medium\", \"high\", \"high\", \"high\", \"low\",  \"low\", \"low\", \"medium\", \"medium\", \"medium\", \"high\", \"high\", \"high\" ), fertilizer = c(\"N\", \"P\", \"NP\", \"N\", \"P\", \"NP\", \"N\", \"P\", \"NP\",  \"N\", \"P\", \"NP\", \"N\", \"P\", \"NP\", \"N\", \"P\", \"NP\", \"N\", \"P\", \"NP\",  \"N\", \"P\", \"NP\", \"N\", \"P\", \"NP\", \"N\", \"P\", \"NP\", \"N\", \"P\", \"NP\",  \"N\", \"P\", \"NP\", \"N\", \"P\", \"NP\", \"N\", \"P\", \"NP\", \"N\", \"P\", \"NP\",  \"N\", \"P\", \"NP\", \"N\", \"P\", \"NP\", \"N\", \"P\", \"NP\", \"N\", \"P\", \"NP\",  \"N\", \"P\", \"NP\", \"N\", \"P\", \"NP\", \"N\", \"P\", \"NP\", \"N\", \"P\", \"NP\",  \"N\", \"P\", \"NP\")), class = \"data.frame\", row.names = c(\"0\", \"1\",  \"2\", \"3\", \"4\", \"5\", \"6\", \"7\", \"8\", \"9\", \"10\", \"11\", \"12\", \"13\",  \"14\", \"15\", \"16\", \"17\", \"18\", \"19\", \"20\", \"21\", \"22\", \"23\", \"24\",  \"25\", \"26\", \"27\", \"28\", \"29\", \"30\", \"31\", \"32\", \"33\", \"34\", \"35\",  \"36\", \"37\", \"38\", \"39\", \"40\", \"41\", \"42\", \"43\", \"44\", \"45\", \"46\",  \"47\", \"48\", \"49\", \"50\", \"51\", \"52\", \"53\", \"54\", \"55\", \"56\", \"57\",  \"58\", \"59\", \"60\", \"61\", \"62\", \"63\", \"64\", \"65\", \"66\", \"67\", \"68\",  \"69\", \"70\", \"71\")) \n",
      "       AIC      BIC    logLik\n",
      "  503.1256 540.2136 -233.5628\n",
      "\n",
      "Random effects:\n",
      " Formula: ~1 | block\n",
      "         (Intercept)\n",
      "StdDev: 0.0005619376\n",
      "\n",
      " Formula: ~1 | irrigation %in% block\n",
      "        (Intercept)\n",
      "StdDev:    1.982562\n",
      "\n",
      " Formula: ~1 | density %in% irrigation %in% block\n",
      "        (Intercept) Residual\n",
      "StdDev:    7.041303 9.142696\n",
      "\n",
      "Fixed effects:  yield ~ (irrigation + density + fertilizer)^2 \n",
      "                                      Value Std.Error DF   t-value p-value\n",
      "(Intercept)                        82.47222  5.443438 40 15.150760  0.0000\n",
      "irrigationirrigated                27.80556  7.069256  3  3.933307  0.0293\n",
      "densitylow                          0.87500  7.256234 12  0.120586  0.9060\n",
      "densitymedium                      13.45833  7.256234 12  1.854727  0.0884\n",
      "fertilizerNP                        3.58333  5.278538 40  0.678850  0.5011\n",
      "fertilizerP                         0.50000  5.278538 40  0.094723  0.9250\n",
      "irrigationirrigated:densitylow    -29.75000  8.800165 12 -3.380618  0.0055\n",
      "irrigationirrigated:densitymedium -19.66667  8.800165 12 -2.234807  0.0452\n",
      "irrigationirrigated:fertilizerNP   16.83333  5.278538 40  3.189014  0.0028\n",
      "irrigationirrigated:fertilizerP    13.50000  5.278538 40  2.557526  0.0144\n",
      "densitylow:fertilizerNP             7.12500  6.464862 40  1.102112  0.2770\n",
      "densitymedium:fertilizerNP         -4.87500  6.464862 40 -0.754076  0.4552\n",
      "densitylow:fertilizerP              4.75000  6.464862 40  0.734741  0.4668\n",
      "densitymedium:fertilizerP          -3.50000  6.464862 40 -0.541388  0.5912\n",
      " Correlation: \n",
      "                                  (Intr) irrgtn dnstyl dnstym frtlNP frtlzP\n",
      "irrigationirrigated               -0.649                                   \n",
      "densitylow                        -0.667  0.377                            \n",
      "densitymedium                     -0.667  0.377  0.500                     \n",
      "fertilizerNP                      -0.485  0.187  0.273  0.273              \n",
      "fertilizerP                       -0.485  0.187  0.273  0.273  0.500       \n",
      "irrigationirrigated:densitylow     0.404 -0.622 -0.606 -0.303  0.000  0.000\n",
      "irrigationirrigated:densitymedium  0.404 -0.622 -0.303 -0.606  0.000  0.000\n",
      "irrigationirrigated:fertilizerNP   0.242 -0.373  0.000  0.000 -0.500 -0.250\n",
      "irrigationirrigated:fertilizerP    0.242 -0.373  0.000  0.000 -0.250 -0.500\n",
      "densitylow:fertilizerNP            0.297  0.000 -0.445 -0.223 -0.612 -0.306\n",
      "densitymedium:fertilizerNP         0.297  0.000 -0.223 -0.445 -0.612 -0.306\n",
      "densitylow:fertilizerP             0.297  0.000 -0.445 -0.223 -0.306 -0.612\n",
      "densitymedium:fertilizerP          0.297  0.000 -0.223 -0.445 -0.306 -0.612\n",
      "                                  irrgtnrrgtd:dnstyl irrgtnrrgtd:dnstym irr:NP\n",
      "irrigationirrigated                                                           \n",
      "densitylow                                                                    \n",
      "densitymedium                                                                 \n",
      "fertilizerNP                                                                  \n",
      "fertilizerP                                                                   \n",
      "irrigationirrigated:densitylow                                                \n",
      "irrigationirrigated:densitymedium  0.500                                      \n",
      "irrigationirrigated:fertilizerNP   0.000              0.000                   \n",
      "irrigationirrigated:fertilizerP    0.000              0.000              0.500\n",
      "densitylow:fertilizerNP            0.000              0.000              0.000\n",
      "densitymedium:fertilizerNP         0.000              0.000              0.000\n",
      "densitylow:fertilizerP             0.000              0.000              0.000\n",
      "densitymedium:fertilizerP          0.000              0.000              0.000\n",
      "                                  irrg:P dnstyl:NP dnstym:NP dnstyl:P\n",
      "irrigationirrigated                                                  \n",
      "densitylow                                                           \n",
      "densitymedium                                                        \n",
      "fertilizerNP                                                         \n",
      "fertilizerP                                                          \n",
      "irrigationirrigated:densitylow                                       \n",
      "irrigationirrigated:densitymedium                                    \n",
      "irrigationirrigated:fertilizerNP                                     \n",
      "irrigationirrigated:fertilizerP                                      \n",
      "densitylow:fertilizerNP            0.000                             \n",
      "densitymedium:fertilizerNP         0.000  0.500                      \n",
      "densitylow:fertilizerP             0.000  0.500     0.250            \n",
      "densitymedium:fertilizerP          0.000  0.250     0.500     0.500  \n",
      "\n",
      "Standardized Within-Group Residuals:\n",
      "        Min          Q1         Med          Q3         Max \n",
      "-2.03880106 -0.51395226  0.02840501  0.62000583  1.95642504 \n",
      "\n",
      "Number of Observations: 72\n",
      "Number of Groups: \n",
      "                             block              irrigation %in% block \n",
      "                                 4                                  8 \n",
      "density %in% irrigation %in% block \n",
      "                                24 \n",
      "\n"
     ]
    }
   ],
   "source": [
    "print(summaries[3])"
   ]
  },
  {
   "cell_type": "code",
   "execution_count": 113,
   "id": "7dd08dff-0136-431b-9bfc-cadc3e4a9ccc",
   "metadata": {
    "collapsed": true,
    "jupyter": {
     "outputs_hidden": true
    }
   },
   "outputs": [
    {
     "name": "stdout",
     "output_type": "stream",
     "text": [
      "\n",
      "\t Simultaneous Tests for General Linear Hypotheses\n",
      "\n",
      "Fit: lme.formula(fixed = yield ~ (irrigation + density + fertilizer)^2, \n",
      "    data = list(yield = c(90L, 95L, 107L, 92L, 89L, 92L, 81L, \n",
      "    92L, 93L, 80L, 87L, 100L, 121L, 110L, 119L, 78L, 98L, 122L, \n",
      "    83L, 80L, 95L, 98L, 98L, 106L, 74L, 81L, 74L, 102L, 109L, \n",
      "    105L, 99L, 94L, 123L, 136L, 133L, 132L, 85L, 88L, 88L, 112L, \n",
      "    104L, 91L, 82L, 78L, 94L, 60L, 104L, 114L, 90L, 118L, 113L, \n",
      "    119L, 122L, 136L, 86L, 78L, 89L, 79L, 86L, 87L, 85L, 89L, \n",
      "    83L, 73L, 114L, 114L, 109L, 131L, 126L, 116L, 136L, 133L), \n",
      "        block = c(\"A\", \"A\", \"A\", \"A\", \"A\", \"A\", \"A\", \"A\", \"A\", \n",
      "        \"A\", \"A\", \"A\", \"A\", \"A\", \"A\", \"A\", \"A\", \"A\", \"B\", \"B\", \n",
      "        \"B\", \"B\", \"B\", \"B\", \"B\", \"B\", \"B\", \"B\", \"B\", \"B\", \"B\", \n",
      "        \"B\", \"B\", \"B\", \"B\", \"B\", \"C\", \"C\", \"C\", \"C\", \"C\", \"C\", \n",
      "        \"C\", \"C\", \"C\", \"C\", \"C\", \"C\", \"C\", \"C\", \"C\", \"C\", \"C\", \n",
      "        \"C\", \"D\", \"D\", \"D\", \"D\", \"D\", \"D\", \"D\", \"D\", \"D\", \"D\", \n",
      "        \"D\", \"D\", \"D\", \"D\", \"D\", \"D\", \"D\", \"D\"), irrigation = c(\"control\", \n",
      "        \"control\", \"control\", \"control\", \"control\", \"control\", \n",
      "        \"control\", \"control\", \"control\", \"irrigated\", \"irrigated\", \n",
      "        \"irrigated\", \"irrigated\", \"irrigated\", \"irrigated\", \"irrigated\", \n",
      "        \"irrigated\", \"irrigated\", \"control\", \"control\", \"control\", \n",
      "        \"control\", \"control\", \"control\", \"control\", \"control\", \n",
      "        \"control\", \"irrigated\", \"irrigated\", \"irrigated\", \"irrigated\", \n",
      "        \"irrigated\", \"irrigated\", \"irrigated\", \"irrigated\", \"irrigated\", \n",
      "        \"control\", \"control\", \"control\", \"control\", \"control\", \n",
      "        \"control\", \"control\", \"control\", \"control\", \"irrigated\", \n",
      "        \"irrigated\", \"irrigated\", \"irrigated\", \"irrigated\", \"irrigated\", \n",
      "        \"irrigated\", \"irrigated\", \"irrigated\", \"control\", \"control\", \n",
      "        \"control\", \"control\", \"control\", \"control\", \"control\", \n",
      "        \"control\", \"control\", \"irrigated\", \"irrigated\", \"irrigated\", \n",
      "        \"irrigated\", \"irrigated\", \"irrigated\", \"irrigated\", \"irrigated\", \n",
      "        \"irrigated\"), density = c(\"low\", \"low\", \"low\", \"medium\", \n",
      "        \"medium\", \"medium\", \"high\", \"high\", \"high\", \"low\", \"low\", \n",
      "        \"low\", \"medium\", \"medium\", \"medium\", \"high\", \"high\", \n",
      "        \"high\", \"low\", \"low\", \"low\", \"medium\", \"medium\", \"medium\", \n",
      "        \"high\", \"high\", \"high\", \"low\", \"low\", \"low\", \"medium\", \n",
      "        \"medium\", \"medium\", \"high\", \"high\", \"high\", \"low\", \"low\", \n",
      "        \"low\", \"medium\", \"medium\", \"medium\", \"high\", \"high\", \n",
      "        \"high\", \"low\", \"low\", \"low\", \"medium\", \"medium\", \"medium\", \n",
      "        \"high\", \"high\", \"high\", \"low\", \"low\", \"low\", \"medium\", \n",
      "        \"medium\", \"medium\", \"high\", \"high\", \"high\", \"low\", \"low\", \n",
      "        \"low\", \"medium\", \"medium\", \"medium\", \"high\", \"high\", \n",
      "        \"high\"), fertilizer = c(\"N\", \"P\", \"NP\", \"N\", \"P\", \"NP\", \n",
      "        \"N\", \"P\", \"NP\", \"N\", \"P\", \"NP\", \"N\", \"P\", \"NP\", \"N\", \n",
      "        \"P\", \"NP\", \"N\", \"P\", \"NP\", \"N\", \"P\", \"NP\", \"N\", \"P\", \n",
      "        \"NP\", \"N\", \"P\", \"NP\", \"N\", \"P\", \"NP\", \"N\", \"P\", \"NP\", \n",
      "        \"N\", \"P\", \"NP\", \"N\", \"P\", \"NP\", \"N\", \"P\", \"NP\", \"N\", \n",
      "        \"P\", \"NP\", \"N\", \"P\", \"NP\", \"N\", \"P\", \"NP\", \"N\", \"P\", \n",
      "        \"NP\", \"N\", \"P\", \"NP\", \"N\", \"P\", \"NP\", \"N\", \"P\", \"NP\", \n",
      "        \"N\", \"P\", \"NP\", \"N\", \"P\", \"NP\")), random = ~1 | block/irrigation/density)\n",
      "\n",
      "Linear Hypotheses:\n",
      "                                       Estimate Std. Error z value Pr(>|z|)    \n",
      "(Intercept) == 0                         82.472      5.443  15.151  < 0.001 ***\n",
      "irrigationirrigated == 0                 27.806      7.069   3.933  0.00120 ** \n",
      "densitylow == 0                           0.875      7.256   0.121  1.00000    \n",
      "densitymedium == 0                       13.458      7.256   1.855  0.47121    \n",
      "fertilizerNP == 0                         3.583      5.279   0.679  0.99871    \n",
      "fertilizerP == 0                          0.500      5.279   0.095  1.00000    \n",
      "irrigationirrigated:densitylow == 0     -29.750      8.800  -3.381  0.00937 ** \n",
      "irrigationirrigated:densitymedium == 0  -19.667      8.800  -2.235  0.23435    \n",
      "irrigationirrigated:fertilizerNP == 0    16.833      5.279   3.189  0.01750 *  \n",
      "irrigationirrigated:fertilizerP == 0     13.500      5.279   2.558  0.11034    \n",
      "densitylow:fertilizerNP == 0              7.125      6.465   1.102  0.94497    \n",
      "densitymedium:fertilizerNP == 0          -4.875      6.465  -0.754  0.99671    \n",
      "densitylow:fertilizerP == 0               4.750      6.465   0.735  0.99737    \n",
      "densitymedium:fertilizerP == 0           -3.500      6.465  -0.541  0.99986    \n",
      "---\n",
      "Signif. codes:  0 ‘***’ 0.001 ‘**’ 0.01 ‘*’ 0.05 ‘.’ 0.1 ‘ ’ 1\n",
      "(Adjusted p values reported -- single-step method)\n",
      "\n",
      "\n"
     ]
    }
   ],
   "source": [
    "print(cftests[3])"
   ]
  }
 ],
 "metadata": {
  "kernelspec": {
   "display_name": "rpython",
   "language": "python",
   "name": "r_in_python"
  },
  "language_info": {
   "codemirror_mode": {
    "name": "ipython",
    "version": 3
   },
   "file_extension": ".py",
   "mimetype": "text/x-python",
   "name": "python",
   "nbconvert_exporter": "python",
   "pygments_lexer": "ipython3",
   "version": "3.12.8"
  }
 },
 "nbformat": 4,
 "nbformat_minor": 5
}
